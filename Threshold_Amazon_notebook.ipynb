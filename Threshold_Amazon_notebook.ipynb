{
 "cells": [
  {
   "cell_type": "markdown",
   "metadata": {},
   "source": [
    "#  Amazon Fine Food Sentiment Analysis"
   ]
  },
  {
   "cell_type": "markdown",
   "metadata": {},
   "source": [
    "# Objective:\n",
    "\n",
    "For given a text review from Amazon Fine food dataset , determine the text of the review whether its positive or negative sentiment given by users.\n",
    "\n",
    "Data Source: https://www.kaggle.com/snap/amazon-fine-food-reviews"
   ]
  },
  {
   "cell_type": "markdown",
   "metadata": {},
   "source": [
    "# Dataset Description"
   ]
  },
  {
   "cell_type": "markdown",
   "metadata": {},
   "source": [
    "The Amazon Fine Food Reviews dataset consists of reviews of fine foods from Amazon with UserID and ProductID having following:\n",
    "\n",
    "Total Number of reviews: 568,454\n",
    "\n",
    "Total Number of users: 256,059\n",
    "\n",
    "Number of products: 74,258\n",
    "\n",
    "Timespan: Oct 1999 - Oct 2012\n",
    "\n",
    "Number of Attributes/Columns in data: 10\n",
    "\n",
    "Attribute Information:\n",
    "\n",
    "Id:serial number\n",
    "\n",
    "ProductId - column for unique identifier for each product\n",
    "\n",
    "UserId - column for unqiue identifier for each user\n",
    "\n",
    "ProfileName - Profile name for each individual user\n",
    "\n",
    "HelpfulnessNumerator - column indicating number of users who found the review helpful from given \n",
    "\n",
    "HelpfulnessDenominator - column for number of users who indicated whether they found the review helpful or not\n",
    "\n",
    "Score - Rating between 1 and 5\n",
    "\n",
    "Time - Timestamp for the review\n",
    "\n",
    "Summary - Brief summary of the review\n",
    "\n",
    "Text - Text of the review\n",
    "\n",
    "For the given description of dataset help us to decide what all Natural Language Processing techniques needs to be performed for analyzing text review of Amazon dataset."
   ]
  },
  {
   "cell_type": "markdown",
   "metadata": {},
   "source": [
    "### Importing Libraries"
   ]
  },
  {
   "cell_type": "markdown",
   "metadata": {},
   "source": [
    "Description of Libraries used for NLP Technique are as given and reason as why they are used:\n",
    "##### (1) warnings library\n",
    "\n",
    "        warnings module is used to warn a programmer about changes in language or library. A programmer can face a same warning multiple times. So, to avoid this annoying situation, warnings module is used. \n",
    "        \n",
    "##### (2) nltk ( Natural Language Toolkit)\n",
    "\n",
    "        NLTK is a very useful Python package that provides a set of diverse natural languages algorithms.It comes with all pre-built function for processing large text. It is free, opensource, easy to use, large community, and well documented.nltk module is used to work with human language data. It provides us a suite of text processing libraries for classification, tokenization, stemming, tagging, parsing, and semantic reasoning, wrappers for industrial-strength NLP libraries. \n",
    "        \n",
    "##### (3) re library        \n",
    "\n",
    "        Regular Expression is a sequence of characters that forms a search pattern. It is used for describing a search pattern. This module helps us to perform regular expression matching operations.Whatever is included in the given quotes that is been searched and matched in the document. re library have some predefined regular expression that is being matched with loaded deaset.\n",
    "        \n",
    "##### (4) nltk.corpus\n",
    "\n",
    "        Corpus is a collection of texts in a machine reading format. It can be thought as just a bunch of text files in a directory. Here we are importing stopwords corpus from the ntlp.corpus library. Stopwords corpus include high-frequency words like the, to and also that we sometimes want to filter out of a document before further processing.\n",
    "        \n",
    "##### (5) nltk.stem\n",
    "\n",
    "        Stemming is a process of reducing the derived words to their root. There are various algorithms available for stemming like Potter’s Stemmer algorithm, Lovins Stemmer, Dawson Stemmer, Krovetz Stemmer, etc. Here we will be using Porter Stemmer. It is one of the most popular stemming methods proposed in 1980. It is based on the idea that the suffixes in the English language are made up of a combination of smaller and simpler suffixes.\n",
    "        \n",
    "        Example: EED -> EE means “if the word has at least one vowel and consonant plus EED ending, change the ending to EE” as ‘agreed’ becomes ‘agree’.\n",
    "        \n",
    "        Lemmatization is the process of converting a word to its base form. \n",
    "        \n",
    "* The difference between stemming and lemmatization is, lemmatization considers the context and converts the word to its meaningful base form, whereas stemming just removes the last few characters, often leading to incorrect meanings and spelling errors.\n",
    "\n",
    "        Example: ‘Caring’ -> Lemmatization -> ‘Care’\n",
    "                 ‘Caring’ -> Stemming -> ‘Car’\n",
    "\n",
    "        Here we will be using Wordnet Lemmatizer to lemmatize all the sentences.\n",
    "\n",
    "        "
   ]
  },
  {
   "cell_type": "code",
   "execution_count": 3,
   "metadata": {},
   "outputs": [],
   "source": [
    "#importing libraries\n",
    "import warnings\n",
    "warnings.filterwarnings(\"ignore\")\n",
    "import numpy as np    \n",
    "import pandas as pd \n",
    "import nltk  \n",
    "import re\n",
    "from nltk.corpus import stopwords\n",
    "from nltk.stem import PorterStemmer\n",
    "from nltk.stem import WordNetLemmatizer \n",
    "#nltk.download('wordnet')\n"
   ]
  },
  {
   "cell_type": "markdown",
   "metadata": {},
   "source": [
    "## Importing Dataset \n",
    "##### Importing dataset in form of .csv(comma seperated file) using the name df  for further excecution"
   ]
  },
  {
   "cell_type": "code",
   "execution_count": 4,
   "metadata": {},
   "outputs": [
    {
     "data": {
      "text/html": [
       "<div>\n",
       "<style scoped>\n",
       "    .dataframe tbody tr th:only-of-type {\n",
       "        vertical-align: middle;\n",
       "    }\n",
       "\n",
       "    .dataframe tbody tr th {\n",
       "        vertical-align: top;\n",
       "    }\n",
       "\n",
       "    .dataframe thead th {\n",
       "        text-align: right;\n",
       "    }\n",
       "</style>\n",
       "<table border=\"1\" class=\"dataframe\">\n",
       "  <thead>\n",
       "    <tr style=\"text-align: right;\">\n",
       "      <th></th>\n",
       "      <th>Id</th>\n",
       "      <th>ProductId</th>\n",
       "      <th>UserId</th>\n",
       "      <th>ProfileName</th>\n",
       "      <th>HelpfulnessNumerator</th>\n",
       "      <th>HelpfulnessDenominator</th>\n",
       "      <th>Score</th>\n",
       "      <th>Time</th>\n",
       "      <th>Summary</th>\n",
       "      <th>Text</th>\n",
       "    </tr>\n",
       "  </thead>\n",
       "  <tbody>\n",
       "    <tr>\n",
       "      <td>0</td>\n",
       "      <td>1</td>\n",
       "      <td>B001E4KFG0</td>\n",
       "      <td>A3SGXH7AUHU8GW</td>\n",
       "      <td>delmartian</td>\n",
       "      <td>1</td>\n",
       "      <td>1</td>\n",
       "      <td>5</td>\n",
       "      <td>1303862400</td>\n",
       "      <td>Good Quality Dog Food</td>\n",
       "      <td>I have bought several of the Vitality canned d...</td>\n",
       "    </tr>\n",
       "    <tr>\n",
       "      <td>1</td>\n",
       "      <td>2</td>\n",
       "      <td>B00813GRG4</td>\n",
       "      <td>A1D87F6ZCVE5NK</td>\n",
       "      <td>dll pa</td>\n",
       "      <td>0</td>\n",
       "      <td>0</td>\n",
       "      <td>1</td>\n",
       "      <td>1346976000</td>\n",
       "      <td>Not as Advertised</td>\n",
       "      <td>Product arrived labeled as Jumbo Salted Peanut...</td>\n",
       "    </tr>\n",
       "    <tr>\n",
       "      <td>2</td>\n",
       "      <td>3</td>\n",
       "      <td>B000LQOCH0</td>\n",
       "      <td>ABXLMWJIXXAIN</td>\n",
       "      <td>Natalia Corres \"Natalia Corres\"</td>\n",
       "      <td>1</td>\n",
       "      <td>1</td>\n",
       "      <td>4</td>\n",
       "      <td>1219017600</td>\n",
       "      <td>\"Delight\" says it all</td>\n",
       "      <td>This is a confection that has been around a fe...</td>\n",
       "    </tr>\n",
       "  </tbody>\n",
       "</table>\n",
       "</div>"
      ],
      "text/plain": [
       "   Id   ProductId          UserId                      ProfileName  \\\n",
       "0   1  B001E4KFG0  A3SGXH7AUHU8GW                       delmartian   \n",
       "1   2  B00813GRG4  A1D87F6ZCVE5NK                           dll pa   \n",
       "2   3  B000LQOCH0   ABXLMWJIXXAIN  Natalia Corres \"Natalia Corres\"   \n",
       "\n",
       "   HelpfulnessNumerator  HelpfulnessDenominator  Score        Time  \\\n",
       "0                     1                       1      5  1303862400   \n",
       "1                     0                       0      1  1346976000   \n",
       "2                     1                       1      4  1219017600   \n",
       "\n",
       "                 Summary                                               Text  \n",
       "0  Good Quality Dog Food  I have bought several of the Vitality canned d...  \n",
       "1      Not as Advertised  Product arrived labeled as Jumbo Salted Peanut...  \n",
       "2  \"Delight\" says it all  This is a confection that has been around a fe...  "
      ]
     },
     "execution_count": 4,
     "metadata": {},
     "output_type": "execute_result"
    }
   ],
   "source": [
    "# Copy the same path of .csv file where it is located in your folder and then changing '\\' to '/' for reading file successfully\n",
    "df=pd.read_csv(\"E:/Garima folder/Dataset/Reviews.csv\")\n",
    "df.head(3)"
   ]
  },
  {
   "cell_type": "markdown",
   "metadata": {},
   "source": [
    "# DATA PRE-PROCESSING"
   ]
  },
  {
   "cell_type": "markdown",
   "metadata": {},
   "source": [
    "Data Cleaning is a process of cleaning the data according to our model requirements and situation.\n",
    "\n",
    "A solution may not need all the data you got\n",
    "\n",
    "- you might have to remove columns, modify columns, \n",
    "- remove duplicate values, \n",
    "- deal with missing values, \n",
    "- deal with outlier data etc. \n",
    "- Sometimes you will also need to normalize or scale data to make the data fit within a range. \n",
    "This process in general is known as Data Cleaning."
   ]
  },
  {
   "cell_type": "markdown",
   "metadata": {},
   "source": [
    "#### Getting the shape of the dataframe"
   ]
  },
  {
   "cell_type": "code",
   "execution_count": 5,
   "metadata": {},
   "outputs": [
    {
     "name": "stdout",
     "output_type": "stream",
     "text": [
      "(568454, 10)\n"
     ]
    }
   ],
   "source": [
    "print(df.shape)"
   ]
  },
  {
   "cell_type": "markdown",
   "metadata": {},
   "source": [
    "* HelfulnessNumerator tells about number of people found that review usefull.\n",
    "* HelpfulnessDenominator is about usefull review count + not so usefull count. \n",
    "* And hence,HelfulnessNumerator is always less than or equal to HelpfulnesDenominator."
   ]
  },
  {
   "cell_type": "code",
   "execution_count": 6,
   "metadata": {},
   "outputs": [
    {
     "data": {
      "text/html": [
       "<div>\n",
       "<style scoped>\n",
       "    .dataframe tbody tr th:only-of-type {\n",
       "        vertical-align: middle;\n",
       "    }\n",
       "\n",
       "    .dataframe tbody tr th {\n",
       "        vertical-align: top;\n",
       "    }\n",
       "\n",
       "    .dataframe thead th {\n",
       "        text-align: right;\n",
       "    }\n",
       "</style>\n",
       "<table border=\"1\" class=\"dataframe\">\n",
       "  <thead>\n",
       "    <tr style=\"text-align: right;\">\n",
       "      <th></th>\n",
       "      <th>Id</th>\n",
       "      <th>ProductId</th>\n",
       "      <th>UserId</th>\n",
       "      <th>ProfileName</th>\n",
       "      <th>HelpfulnessNumerator</th>\n",
       "      <th>HelpfulnessDenominator</th>\n",
       "      <th>Score</th>\n",
       "      <th>Time</th>\n",
       "      <th>Summary</th>\n",
       "      <th>Text</th>\n",
       "    </tr>\n",
       "  </thead>\n",
       "  <tbody>\n",
       "    <tr>\n",
       "      <td>0</td>\n",
       "      <td>1</td>\n",
       "      <td>B001E4KFG0</td>\n",
       "      <td>A3SGXH7AUHU8GW</td>\n",
       "      <td>delmartian</td>\n",
       "      <td>1</td>\n",
       "      <td>1</td>\n",
       "      <td>5</td>\n",
       "      <td>1303862400</td>\n",
       "      <td>Good Quality Dog Food</td>\n",
       "      <td>I have bought several of the Vitality canned d...</td>\n",
       "    </tr>\n",
       "    <tr>\n",
       "      <td>1</td>\n",
       "      <td>2</td>\n",
       "      <td>B00813GRG4</td>\n",
       "      <td>A1D87F6ZCVE5NK</td>\n",
       "      <td>dll pa</td>\n",
       "      <td>0</td>\n",
       "      <td>0</td>\n",
       "      <td>1</td>\n",
       "      <td>1346976000</td>\n",
       "      <td>Not as Advertised</td>\n",
       "      <td>Product arrived labeled as Jumbo Salted Peanut...</td>\n",
       "    </tr>\n",
       "    <tr>\n",
       "      <td>2</td>\n",
       "      <td>3</td>\n",
       "      <td>B000LQOCH0</td>\n",
       "      <td>ABXLMWJIXXAIN</td>\n",
       "      <td>Natalia Corres \"Natalia Corres\"</td>\n",
       "      <td>1</td>\n",
       "      <td>1</td>\n",
       "      <td>4</td>\n",
       "      <td>1219017600</td>\n",
       "      <td>\"Delight\" says it all</td>\n",
       "      <td>This is a confection that has been around a fe...</td>\n",
       "    </tr>\n",
       "  </tbody>\n",
       "</table>\n",
       "</div>"
      ],
      "text/plain": [
       "   Id   ProductId          UserId                      ProfileName  \\\n",
       "0   1  B001E4KFG0  A3SGXH7AUHU8GW                       delmartian   \n",
       "1   2  B00813GRG4  A1D87F6ZCVE5NK                           dll pa   \n",
       "2   3  B000LQOCH0   ABXLMWJIXXAIN  Natalia Corres \"Natalia Corres\"   \n",
       "\n",
       "   HelpfulnessNumerator  HelpfulnessDenominator  Score        Time  \\\n",
       "0                     1                       1      5  1303862400   \n",
       "1                     0                       0      1  1346976000   \n",
       "2                     1                       1      4  1219017600   \n",
       "\n",
       "                 Summary                                               Text  \n",
       "0  Good Quality Dog Food  I have bought several of the Vitality canned d...  \n",
       "1      Not as Advertised  Product arrived labeled as Jumbo Salted Peanut...  \n",
       "2  \"Delight\" says it all  This is a confection that has been around a fe...  "
      ]
     },
     "execution_count": 6,
     "metadata": {},
     "output_type": "execute_result"
    }
   ],
   "source": [
    "df = df[df['HelpfulnessNumerator'] <= df['HelpfulnessDenominator']]\n",
    "df.head(3)"
   ]
  },
  {
   "cell_type": "markdown",
   "metadata": {},
   "source": [
    "### Checking for the missing values and datatypes for each columns in the dataset"
   ]
  },
  {
   "cell_type": "code",
   "execution_count": 7,
   "metadata": {},
   "outputs": [
    {
     "name": "stdout",
     "output_type": "stream",
     "text": [
      "<class 'pandas.core.frame.DataFrame'>\n",
      "Int64Index: 568452 entries, 0 to 568453\n",
      "Data columns (total 10 columns):\n",
      "Id                        568452 non-null int64\n",
      "ProductId                 568452 non-null object\n",
      "UserId                    568452 non-null object\n",
      "ProfileName               568436 non-null object\n",
      "HelpfulnessNumerator      568452 non-null int64\n",
      "HelpfulnessDenominator    568452 non-null int64\n",
      "Score                     568452 non-null int64\n",
      "Time                      568452 non-null int64\n",
      "Summary                   568425 non-null object\n",
      "Text                      568452 non-null object\n",
      "dtypes: int64(5), object(5)\n",
      "memory usage: 47.7+ MB\n"
     ]
    }
   ],
   "source": [
    "df.info()"
   ]
  },
  {
   "cell_type": "markdown",
   "metadata": {},
   "source": [
    "* Checking for the NA values in the dataset"
   ]
  },
  {
   "cell_type": "code",
   "execution_count": 8,
   "metadata": {},
   "outputs": [
    {
     "data": {
      "text/plain": [
       "Id                         0\n",
       "ProductId                  0\n",
       "UserId                     0\n",
       "ProfileName               16\n",
       "HelpfulnessNumerator       0\n",
       "HelpfulnessDenominator     0\n",
       "Score                      0\n",
       "Time                       0\n",
       "Summary                   27\n",
       "Text                       0\n",
       "dtype: int64"
      ]
     },
     "execution_count": 8,
     "metadata": {},
     "output_type": "execute_result"
    }
   ],
   "source": [
    "df.isna().sum()"
   ]
  },
  {
   "cell_type": "markdown",
   "metadata": {},
   "source": [
    "* Since we are concern with sentimenal analysis of the text review in Amazon dataset ,we will keep only 'Text' and the 'Score' column."
   ]
  },
  {
   "cell_type": "code",
   "execution_count": 9,
   "metadata": {},
   "outputs": [],
   "source": [
    "df=df[['Text','Score']]"
   ]
  },
  {
   "cell_type": "markdown",
   "metadata": {},
   "source": [
    "* Changing Text column to Review column and Score column to Rating for better understanding"
   ]
  },
  {
   "cell_type": "code",
   "execution_count": 10,
   "metadata": {},
   "outputs": [],
   "source": [
    "df['review']=df['Text']\n",
    "df['rating']=df['Score']\n",
    "df.drop(['Text','Score'],axis=1,inplace=True)"
   ]
  },
  {
   "cell_type": "code",
   "execution_count": 11,
   "metadata": {},
   "outputs": [
    {
     "name": "stdout",
     "output_type": "stream",
     "text": [
      "(568452, 2)\n"
     ]
    },
    {
     "data": {
      "text/html": [
       "<div>\n",
       "<style scoped>\n",
       "    .dataframe tbody tr th:only-of-type {\n",
       "        vertical-align: middle;\n",
       "    }\n",
       "\n",
       "    .dataframe tbody tr th {\n",
       "        vertical-align: top;\n",
       "    }\n",
       "\n",
       "    .dataframe thead th {\n",
       "        text-align: right;\n",
       "    }\n",
       "</style>\n",
       "<table border=\"1\" class=\"dataframe\">\n",
       "  <thead>\n",
       "    <tr style=\"text-align: right;\">\n",
       "      <th></th>\n",
       "      <th>review</th>\n",
       "      <th>rating</th>\n",
       "    </tr>\n",
       "  </thead>\n",
       "  <tbody>\n",
       "    <tr>\n",
       "      <td>0</td>\n",
       "      <td>I have bought several of the Vitality canned d...</td>\n",
       "      <td>5</td>\n",
       "    </tr>\n",
       "    <tr>\n",
       "      <td>1</td>\n",
       "      <td>Product arrived labeled as Jumbo Salted Peanut...</td>\n",
       "      <td>1</td>\n",
       "    </tr>\n",
       "    <tr>\n",
       "      <td>2</td>\n",
       "      <td>This is a confection that has been around a fe...</td>\n",
       "      <td>4</td>\n",
       "    </tr>\n",
       "    <tr>\n",
       "      <td>3</td>\n",
       "      <td>If you are looking for the secret ingredient i...</td>\n",
       "      <td>2</td>\n",
       "    </tr>\n",
       "    <tr>\n",
       "      <td>4</td>\n",
       "      <td>Great taffy at a great price.  There was a wid...</td>\n",
       "      <td>5</td>\n",
       "    </tr>\n",
       "  </tbody>\n",
       "</table>\n",
       "</div>"
      ],
      "text/plain": [
       "                                              review  rating\n",
       "0  I have bought several of the Vitality canned d...       5\n",
       "1  Product arrived labeled as Jumbo Salted Peanut...       1\n",
       "2  This is a confection that has been around a fe...       4\n",
       "3  If you are looking for the secret ingredient i...       2\n",
       "4  Great taffy at a great price.  There was a wid...       5"
      ]
     },
     "execution_count": 11,
     "metadata": {},
     "output_type": "execute_result"
    }
   ],
   "source": [
    "print(df.shape)\n",
    "df.head()"
   ]
  },
  {
   "cell_type": "markdown",
   "metadata": {},
   "source": [
    "#### check for null values"
   ]
  },
  {
   "cell_type": "code",
   "execution_count": 12,
   "metadata": {},
   "outputs": [
    {
     "name": "stdout",
     "output_type": "stream",
     "text": [
      "0\n"
     ]
    },
    {
     "data": {
      "text/plain": [
       "0"
      ]
     },
     "execution_count": 12,
     "metadata": {},
     "output_type": "execute_result"
    }
   ],
   "source": [
    "print(df['rating'].isnull().sum())\n",
    "df['review'].isnull().sum()  # no null values."
   ]
  },
  {
   "cell_type": "markdown",
   "metadata": {},
   "source": [
    "* There is no point for keeping rows with different scores or sentiment for same review text. So we will keep only one instance and drop the rest of the duplicates."
   ]
  },
  {
   "cell_type": "markdown",
   "metadata": {},
   "source": [
    "\n",
    "##### remove duplicates/ for every duplicate we will keep only one row of that type - the row which comes first"
   ]
  },
  {
   "cell_type": "code",
   "execution_count": 13,
   "metadata": {},
   "outputs": [],
   "source": [
    "df.drop_duplicates(subset=['rating','review'],keep='first',inplace=True) "
   ]
  },
  {
   "cell_type": "code",
   "execution_count": 14,
   "metadata": {},
   "outputs": [
    {
     "name": "stdout",
     "output_type": "stream",
     "text": [
      "(393673, 2)\n"
     ]
    },
    {
     "data": {
      "text/html": [
       "<div>\n",
       "<style scoped>\n",
       "    .dataframe tbody tr th:only-of-type {\n",
       "        vertical-align: middle;\n",
       "    }\n",
       "\n",
       "    .dataframe tbody tr th {\n",
       "        vertical-align: top;\n",
       "    }\n",
       "\n",
       "    .dataframe thead th {\n",
       "        text-align: right;\n",
       "    }\n",
       "</style>\n",
       "<table border=\"1\" class=\"dataframe\">\n",
       "  <thead>\n",
       "    <tr style=\"text-align: right;\">\n",
       "      <th></th>\n",
       "      <th>review</th>\n",
       "      <th>rating</th>\n",
       "    </tr>\n",
       "  </thead>\n",
       "  <tbody>\n",
       "    <tr>\n",
       "      <td>0</td>\n",
       "      <td>I have bought several of the Vitality canned d...</td>\n",
       "      <td>5</td>\n",
       "    </tr>\n",
       "    <tr>\n",
       "      <td>1</td>\n",
       "      <td>Product arrived labeled as Jumbo Salted Peanut...</td>\n",
       "      <td>1</td>\n",
       "    </tr>\n",
       "    <tr>\n",
       "      <td>2</td>\n",
       "      <td>This is a confection that has been around a fe...</td>\n",
       "      <td>4</td>\n",
       "    </tr>\n",
       "    <tr>\n",
       "      <td>3</td>\n",
       "      <td>If you are looking for the secret ingredient i...</td>\n",
       "      <td>2</td>\n",
       "    </tr>\n",
       "    <tr>\n",
       "      <td>4</td>\n",
       "      <td>Great taffy at a great price.  There was a wid...</td>\n",
       "      <td>5</td>\n",
       "    </tr>\n",
       "  </tbody>\n",
       "</table>\n",
       "</div>"
      ],
      "text/plain": [
       "                                              review  rating\n",
       "0  I have bought several of the Vitality canned d...       5\n",
       "1  Product arrived labeled as Jumbo Salted Peanut...       1\n",
       "2  This is a confection that has been around a fe...       4\n",
       "3  If you are looking for the secret ingredient i...       2\n",
       "4  Great taffy at a great price.  There was a wid...       5"
      ]
     },
     "execution_count": 14,
     "metadata": {},
     "output_type": "execute_result"
    }
   ],
   "source": [
    "# now check the shape. note that shape is reduced which shows that we did has duplicate rows.\n",
    "print(df.shape)\n",
    "df.head()"
   ]
  },
  {
   "cell_type": "markdown",
   "metadata": {},
   "source": [
    "##  The main objective for this dataset is to predict whether a review is Positive or Negative based on the Text column.\n",
    " The Score column has values 1,2,3,4, and 5.\n",
    " \n",
    " Considering (1, 2) as Negative reviews and (4, 5) as Positive reviews. \n",
    " For Score = 3 we will consider it as Neutral review.\n",
    " Then we delete the rows that are neutral, so that we can predict either given Review is Positive or Negative."
   ]
  },
  {
   "cell_type": "code",
   "execution_count": 15,
   "metadata": {},
   "outputs": [
    {
     "data": {
      "text/plain": [
       "29772"
      ]
     },
     "execution_count": 15,
     "metadata": {},
     "output_type": "execute_result"
    }
   ],
   "source": [
    "len(df[df['rating']== 3])"
   ]
  },
  {
   "cell_type": "markdown",
   "metadata": {},
   "source": [
    "* After removing of Score= 3\n",
    "\n",
    "total reviews(393673) - neutral reviews(42640)= 351033(Positive_reviews+ Negative_reviews)"
   ]
  },
  {
   "cell_type": "markdown",
   "metadata": {},
   "source": [
    "### Removing of neutral review "
   ]
  },
  {
   "cell_type": "code",
   "execution_count": 16,
   "metadata": {},
   "outputs": [],
   "source": [
    "def mark_sentiment(rating):\n",
    "    if(rating<=3):\n",
    "        return 0\n",
    "    else:\n",
    "        return 1"
   ]
  },
  {
   "cell_type": "code",
   "execution_count": 17,
   "metadata": {},
   "outputs": [],
   "source": [
    "df['sentiment']=df['rating'].apply(mark_sentiment)"
   ]
  },
  {
   "cell_type": "code",
   "execution_count": 18,
   "metadata": {},
   "outputs": [
    {
     "data": {
      "text/html": [
       "<div>\n",
       "<style scoped>\n",
       "    .dataframe tbody tr th:only-of-type {\n",
       "        vertical-align: middle;\n",
       "    }\n",
       "\n",
       "    .dataframe tbody tr th {\n",
       "        vertical-align: top;\n",
       "    }\n",
       "\n",
       "    .dataframe thead th {\n",
       "        text-align: right;\n",
       "    }\n",
       "</style>\n",
       "<table border=\"1\" class=\"dataframe\">\n",
       "  <thead>\n",
       "    <tr style=\"text-align: right;\">\n",
       "      <th></th>\n",
       "      <th>review</th>\n",
       "      <th>sentiment</th>\n",
       "    </tr>\n",
       "  </thead>\n",
       "  <tbody>\n",
       "    <tr>\n",
       "      <td>0</td>\n",
       "      <td>I have bought several of the Vitality canned d...</td>\n",
       "      <td>1</td>\n",
       "    </tr>\n",
       "    <tr>\n",
       "      <td>1</td>\n",
       "      <td>Product arrived labeled as Jumbo Salted Peanut...</td>\n",
       "      <td>0</td>\n",
       "    </tr>\n",
       "    <tr>\n",
       "      <td>2</td>\n",
       "      <td>This is a confection that has been around a fe...</td>\n",
       "      <td>1</td>\n",
       "    </tr>\n",
       "    <tr>\n",
       "      <td>3</td>\n",
       "      <td>If you are looking for the secret ingredient i...</td>\n",
       "      <td>0</td>\n",
       "    </tr>\n",
       "    <tr>\n",
       "      <td>4</td>\n",
       "      <td>Great taffy at a great price.  There was a wid...</td>\n",
       "      <td>1</td>\n",
       "    </tr>\n",
       "  </tbody>\n",
       "</table>\n",
       "</div>"
      ],
      "text/plain": [
       "                                              review  sentiment\n",
       "0  I have bought several of the Vitality canned d...          1\n",
       "1  Product arrived labeled as Jumbo Salted Peanut...          0\n",
       "2  This is a confection that has been around a fe...          1\n",
       "3  If you are looking for the secret ingredient i...          0\n",
       "4  Great taffy at a great price.  There was a wid...          1"
      ]
     },
     "execution_count": 18,
     "metadata": {},
     "output_type": "execute_result"
    }
   ],
   "source": [
    "df.drop(['rating'],axis=1,inplace=True)\n",
    "df.head()"
   ]
  },
  {
   "cell_type": "markdown",
   "metadata": {},
   "source": [
    "##### Counting the number of positive and negaive Reviews marked with 0  for negative and 1 with positive"
   ]
  },
  {
   "cell_type": "code",
   "execution_count": 19,
   "metadata": {},
   "outputs": [
    {
     "data": {
      "text/plain": [
       "1    306817\n",
       "0     86856\n",
       "Name: sentiment, dtype: int64"
      ]
     },
     "execution_count": 19,
     "metadata": {},
     "output_type": "execute_result"
    }
   ],
   "source": [
    "df['sentiment'].value_counts()"
   ]
  },
  {
   "cell_type": "code",
   "execution_count": 20,
   "metadata": {},
   "outputs": [
    {
     "data": {
      "text/plain": [
       "review       0\n",
       "sentiment    0\n",
       "dtype: int64"
      ]
     },
     "execution_count": 20,
     "metadata": {},
     "output_type": "execute_result"
    }
   ],
   "source": [
    "df.dropna(inplace = True )    \n",
    "df.isnull().sum()"
   ]
  },
  {
   "cell_type": "code",
   "execution_count": 21,
   "metadata": {},
   "outputs": [
    {
     "data": {
      "text/html": [
       "<div>\n",
       "<style scoped>\n",
       "    .dataframe tbody tr th:only-of-type {\n",
       "        vertical-align: middle;\n",
       "    }\n",
       "\n",
       "    .dataframe tbody tr th {\n",
       "        vertical-align: top;\n",
       "    }\n",
       "\n",
       "    .dataframe thead th {\n",
       "        text-align: right;\n",
       "    }\n",
       "</style>\n",
       "<table border=\"1\" class=\"dataframe\">\n",
       "  <thead>\n",
       "    <tr style=\"text-align: right;\">\n",
       "      <th></th>\n",
       "      <th>review</th>\n",
       "    </tr>\n",
       "  </thead>\n",
       "  <tbody>\n",
       "    <tr>\n",
       "      <td>count</td>\n",
       "      <td>393673</td>\n",
       "    </tr>\n",
       "    <tr>\n",
       "      <td>unique</td>\n",
       "      <td>393577</td>\n",
       "    </tr>\n",
       "    <tr>\n",
       "      <td>top</td>\n",
       "      <td>I compared 4 different brands of matcha green ...</td>\n",
       "    </tr>\n",
       "    <tr>\n",
       "      <td>freq</td>\n",
       "      <td>3</td>\n",
       "    </tr>\n",
       "  </tbody>\n",
       "</table>\n",
       "</div>"
      ],
      "text/plain": [
       "                                                   review\n",
       "count                                              393673\n",
       "unique                                             393577\n",
       "top     I compared 4 different brands of matcha green ...\n",
       "freq                                                    3"
      ]
     },
     "execution_count": 21,
     "metadata": {},
     "output_type": "execute_result"
    }
   ],
   "source": [
    "df.describe(include = 'O')  "
   ]
  },
  {
   "cell_type": "markdown",
   "metadata": {},
   "source": [
    "##### Pre- Processing of all the reviews is taking way too much time and so we will consider only 100K reviews. To balance the class we have taken equal instances of each sentiment."
   ]
  },
  {
   "cell_type": "code",
   "execution_count": 22,
   "metadata": {},
   "outputs": [
    {
     "data": {
      "text/plain": [
       "'pos_df=df.loc[df.sentiment==1,:][:50000]\\nneg_df=df.loc[df.sentiment==0,:][:50000]'"
      ]
     },
     "execution_count": 22,
     "metadata": {},
     "output_type": "execute_result"
    }
   ],
   "source": [
    "'''pos_df=df.loc[df.sentiment==1,:][:50000]\n",
    "neg_df=df.loc[df.sentiment==0,:][:50000]'''\n"
   ]
  },
  {
   "cell_type": "code",
   "execution_count": 23,
   "metadata": {},
   "outputs": [],
   "source": [
    "#pos_df.head()"
   ]
  },
  {
   "cell_type": "code",
   "execution_count": 24,
   "metadata": {},
   "outputs": [],
   "source": [
    "#neg_df.head()\n"
   ]
  },
  {
   "cell_type": "code",
   "execution_count": 25,
   "metadata": {},
   "outputs": [
    {
     "name": "stdout",
     "output_type": "stream",
     "text": [
      "(393673, 2)\n"
     ]
    },
    {
     "data": {
      "text/html": [
       "<div>\n",
       "<style scoped>\n",
       "    .dataframe tbody tr th:only-of-type {\n",
       "        vertical-align: middle;\n",
       "    }\n",
       "\n",
       "    .dataframe tbody tr th {\n",
       "        vertical-align: top;\n",
       "    }\n",
       "\n",
       "    .dataframe thead th {\n",
       "        text-align: right;\n",
       "    }\n",
       "</style>\n",
       "<table border=\"1\" class=\"dataframe\">\n",
       "  <thead>\n",
       "    <tr style=\"text-align: right;\">\n",
       "      <th></th>\n",
       "      <th>review</th>\n",
       "      <th>sentiment</th>\n",
       "    </tr>\n",
       "  </thead>\n",
       "  <tbody>\n",
       "    <tr>\n",
       "      <td>0</td>\n",
       "      <td>I have bought several of the Vitality canned d...</td>\n",
       "      <td>1</td>\n",
       "    </tr>\n",
       "    <tr>\n",
       "      <td>1</td>\n",
       "      <td>Product arrived labeled as Jumbo Salted Peanut...</td>\n",
       "      <td>0</td>\n",
       "    </tr>\n",
       "    <tr>\n",
       "      <td>2</td>\n",
       "      <td>This is a confection that has been around a fe...</td>\n",
       "      <td>1</td>\n",
       "    </tr>\n",
       "    <tr>\n",
       "      <td>3</td>\n",
       "      <td>If you are looking for the secret ingredient i...</td>\n",
       "      <td>0</td>\n",
       "    </tr>\n",
       "    <tr>\n",
       "      <td>4</td>\n",
       "      <td>Great taffy at a great price.  There was a wid...</td>\n",
       "      <td>1</td>\n",
       "    </tr>\n",
       "  </tbody>\n",
       "</table>\n",
       "</div>"
      ],
      "text/plain": [
       "                                              review  sentiment\n",
       "0  I have bought several of the Vitality canned d...          1\n",
       "1  Product arrived labeled as Jumbo Salted Peanut...          0\n",
       "2  This is a confection that has been around a fe...          1\n",
       "3  If you are looking for the secret ingredient i...          0\n",
       "4  Great taffy at a great price.  There was a wid...          1"
      ]
     },
     "execution_count": 25,
     "metadata": {},
     "output_type": "execute_result"
    }
   ],
   "source": [
    "#We can now combine reviews of each sentiment and shuffle them so that their order doesn't make any sense\n",
    "\n",
    "#df=pd.concat([pos_df,neg_df],ignore_index=True)\n",
    "print(df.shape)\n",
    "df.head()"
   ]
  },
  {
   "cell_type": "markdown",
   "metadata": {},
   "source": [
    "## Text Pre-processing"
   ]
  },
  {
   "cell_type": "markdown",
   "metadata": {},
   "source": [
    "Now that we have finished deduplication our data requires some preprocessing before we go on further with analysis and making the prediction model.\n",
    "\n",
    "Pre-processing is the step of converting textual data (human language) into numeric(machine readable format) for further processing. This is also called text normalisation or Text Standardization. \n",
    "Text normalisation involves converting all letters to lower or upper case, converting numbers into words or removing numbers, removing white spaces, expanding abbreviations, removing stop words, etc. There are series of steps which need to be excecuted in sequential manner to clean the Text column in the dataset.\n",
    "\n",
    "Hence in the Preprocessing phase we do the following in the order below:-\n",
    " 1.Tokenization (Sentence Tokenization & Word Tokenization)\n",
    " \n",
    " 2.Removal of punctuation and html tags\n",
    " \n",
    " 3.Converting to Lowercase\n",
    " \n",
    " 4.Filtering of Numbers\n",
    " \n",
    " 5.Removing of Stopwords\n",
    " \n",
    " 6.Lexicon Normalization:Lemmatization Method is used\n"
   ]
  },
  {
   "cell_type": "markdown",
   "metadata": {},
   "source": [
    "#### For nltk package we need to convert the dataframe format of dataset in String or bytes-like object. \n",
    "\n",
    "#### Hence, by making use of df.to_string() from Pandas package is used. After converting dataframe df to string data we can proceed to do all the text-preprocessing steps."
   ]
  },
  {
   "cell_type": "code",
   "execution_count": 26,
   "metadata": {
    "scrolled": true
   },
   "outputs": [],
   "source": [
    "#print(df.to_string())\n",
    "data=df['review'].to_string()\n",
    "#data\n"
   ]
  },
  {
   "cell_type": "markdown",
   "metadata": {},
   "source": [
    "#### [1] Tokenization is the first step in text pre-processing. The process of breaking down a text paragraph into smaller chunks such as words or sentence is called Tokenization. Token is a single entity that is building blocks for sentence or paragraph.\n",
    "  \n",
    "- For our dataset we will perform tokenization in two-stages:(i) Sentence Tokenization (ii) Word Tokenization"
   ]
  },
  {
   "cell_type": "markdown",
   "metadata": {},
   "source": [
    "(i)Sentence Tokenization:\n",
    "* Here the tokens are sentences made out of paragraph.Sometime user give review in form of paragraphs and these need to be broken down in sentences for further processing.\n",
    "\n",
    "* For this we import sent_tokenize(string) from nltk that break paragraph into sentences."
   ]
  },
  {
   "cell_type": "code",
   "execution_count": 27,
   "metadata": {},
   "outputs": [],
   "source": [
    "from nltk.tokenize import sent_tokenize\n",
    "tokens = sent_tokenize(data)\n",
    "#tokens"
   ]
  },
  {
   "cell_type": "markdown",
   "metadata": {},
   "source": [
    "(ii)Word Tokenization:\n",
    "\n",
    "* Here the tokens are words made out of sentences.Sentences need to be broken down into words for further processing for lemmatization and stemming.\n",
    "\n",
    "* For this we import word_tokenize(string) from nltk that break sentences into set of words ."
   ]
  },
  {
   "cell_type": "code",
   "execution_count": 28,
   "metadata": {},
   "outputs": [],
   "source": [
    "from nltk.tokenize import word_tokenize\n",
    "tokens = nltk.word_tokenize(data)\n",
    "#tokens"
   ]
  },
  {
   "cell_type": "markdown",
   "metadata": {},
   "source": [
    "##### We can plot frequency distribution plot importing module from nltk to visualize the tokens that are most frequent in dataset.And then can plot most common 10 words occuring most."
   ]
  },
  {
   "cell_type": "code",
   "execution_count": 29,
   "metadata": {},
   "outputs": [
    {
     "name": "stdout",
     "output_type": "stream",
     "text": [
      "<FreqDist with 466271 samples and 4745806 outcomes>\n"
     ]
    },
    {
     "data": {
      "text/plain": [
       "[('...', 400073),\n",
       " ('I', 218855),\n",
       " ('a', 105181),\n",
       " ('the', 99682),\n",
       " (',', 93567),\n",
       " ('.', 87814),\n",
       " ('this', 82202),\n",
       " ('is', 78416),\n",
       " ('and', 71684),\n",
       " ('to', 58157)]"
      ]
     },
     "execution_count": 29,
     "metadata": {},
     "output_type": "execute_result"
    }
   ],
   "source": [
    "from nltk.probability import FreqDist\n",
    "fdist = FreqDist(tokens)\n",
    "print(fdist)\n",
    "fdist.most_common(10)"
   ]
  },
  {
   "cell_type": "code",
   "execution_count": 30,
   "metadata": {},
   "outputs": [
    {
     "data": {
      "text/plain": [
       "<Figure size 640x480 with 1 Axes>"
      ]
     },
     "metadata": {},
     "output_type": "display_data"
    }
   ],
   "source": [
    "import matplotlib.pyplot as plt\n",
    "fdist.plot(10,cumulative=False)\n",
    "plt.show()"
   ]
  },
  {
   "cell_type": "markdown",
   "metadata": {},
   "source": [
    "###### Here we can see that some words that are not useful for analysis are repeating most that are what we term those words as stopwords which needs to be removes as part of pre-processing. We can also see that '....' is repeating most in all reviews by users that add ni meaning to text analysis and must be removed."
   ]
  },
  {
   "cell_type": "markdown",
   "metadata": {},
   "source": [
    "#### [2] There are some extra text such as punctuation marks and html tags which needs to be eleminated. We will make use of Regular expression tokenizer importing from nltk.\n",
    " - By mentioning the regular expression r'/[^a-zA-Z ]/|\\w+' we can tokenize reviews that matches similar pattern in the text.Only the text made up of words with Uppercase(A-Z) or lowercase(a-z) is considered further for analysis excluding all other special characters that have no meaning to decide review is whether positive or negative.\n",
    " - It is removing of any punctuations or limited set of special characters like , or . or # etc - Considering only alphabets"
   ]
  },
  {
   "cell_type": "code",
   "execution_count": 31,
   "metadata": {},
   "outputs": [],
   "source": [
    "from nltk.tokenize import RegexpTokenizer\n",
    "\n",
    "tokenizer = RegexpTokenizer(r'/[^a-zA-Z ]/|\\w+')\n",
    "t=tokenizer.tokenize(data)\n",
    "#t"
   ]
  },
  {
   "cell_type": "markdown",
   "metadata": {},
   "source": [
    "#### [3] Convert the word to lowercase \n",
    " - This is on of the important step that eleminate the size of vectors by treating both Uppercase and lowercase same.\n",
    " For example: word or Word or WORD are of same meaning and hence can be converted all to lowercase.\n",
    " \n",
    " - We will make use of lower() function and apply to words that are tokenized in last step. This can be done using list comprehension method which is already discussed in Introduction to python module."
   ]
  },
  {
   "cell_type": "code",
   "execution_count": 32,
   "metadata": {},
   "outputs": [],
   "source": [
    "# convert to lower case\n",
    "tokens = [w.lower() for w in t]\n",
    "#tokens"
   ]
  },
  {
   "cell_type": "markdown",
   "metadata": {},
   "source": [
    "#### [4] Filtering of numbers\n",
    " - When we have converted the dataframe into string it comes with numbering of strings. Also, numbers are included by Users in reviews that will not help in Text analyzing and must be removed for decreasing size of final corpus of vectors.\n",
    " - For this we have one function called isalpha() for checking whether the token is made up of only alphabets and not numbers.This function sometimes also used for stripping of punctuation marks also."
   ]
  },
  {
   "cell_type": "code",
   "execution_count": 33,
   "metadata": {},
   "outputs": [],
   "source": [
    "# remove remaining tokens that are not alphabetic\n",
    "words = [word for word in tokens if word.isalpha()]\n",
    "#words"
   ]
  },
  {
   "cell_type": "markdown",
   "metadata": {},
   "source": [
    "#### [5] Removing of Stopwords\n",
    "  - Stopwords are the most common words in a language like “the”, “a”, “on”, “is”, “all”. These words do not carry             important meaning and are usually removed from texts.These are useless words.\n",
    "   \n",
    "    - For removing stopwords, we need to create a list of stopwords and filter out the list of tokens from these words processed in last step.We can make use of nltk package to first know the set of pre-defined stopwords and then remove it from list of tokens in next step.\n"
   ]
  },
  {
   "cell_type": "code",
   "execution_count": 34,
   "metadata": {},
   "outputs": [],
   "source": [
    "from nltk.corpus import stopwords\n",
    "stop_words = set(stopwords.words('english'))\n",
    "#stop_words"
   ]
  },
  {
   "cell_type": "code",
   "execution_count": 35,
   "metadata": {},
   "outputs": [],
   "source": [
    "words = [w for w in words if not w in stop_words]\n",
    "#print(words)"
   ]
  },
  {
   "cell_type": "markdown",
   "metadata": {},
   "source": [
    "#### [6] Lexicon Normalization\n",
    "   - Lexicon Normalization is method of Linguistics Normalization that deals with retrieving root form of word.Under this lexicon Normalization, it provides with two options:\n",
    "      {i}Stemming                              {ii}Lemmatization\n",
    "     - Here, we have done Lemmatization over Stemmig that returns better results as compared to Stemming as it works only on single entities without considering the contextual meaning.For example the lemma for word 'better' is 'good' when done with help of lemmatization whereas same will not be resulated by performing stemming.\n",
    "     - Lemmatization is the process of converting a word to its base form.It considers the context and converts the word to its meaningful base form.Lemmatization results in formation of lemma.\n",
    "     - Lemmatization is performed using WordNetLemmatizer() from nltk\n",
    " "
   ]
  },
  {
   "cell_type": "code",
   "execution_count": 36,
   "metadata": {},
   "outputs": [],
   "source": [
    "from nltk.stem.wordnet import WordNetLemmatizer\n",
    "lemma = WordNetLemmatizer()\n",
    "words = [lemma.lemmatize(w,\"v\") for w in words]\n",
    "#words"
   ]
  },
  {
   "cell_type": "code",
   "execution_count": 37,
   "metadata": {},
   "outputs": [
    {
     "name": "stdout",
     "output_type": "stream",
     "text": [
      "<FreqDist with 37859 samples and 1807463 outcomes>\n"
     ]
    }
   ],
   "source": [
    "from nltk.probability import FreqDist\n",
    "fdist = FreqDist(words)\n",
    "print(fdist)"
   ]
  },
  {
   "cell_type": "code",
   "execution_count": 38,
   "metadata": {},
   "outputs": [
    {
     "data": {
      "text/plain": [
       "[('love', 41254),\n",
       " ('product', 28399),\n",
       " ('great', 24774),\n",
       " ('like', 22491),\n",
       " ('buy', 22148),\n",
       " ('taste', 21061),\n",
       " ('good', 20781),\n",
       " ('use', 19291),\n",
       " ('tea', 18948),\n",
       " ('coffee', 18814)]"
      ]
     },
     "execution_count": 38,
     "metadata": {},
     "output_type": "execute_result"
    }
   ],
   "source": [
    "fdist.most_common(10)"
   ]
  },
  {
   "cell_type": "code",
   "execution_count": 39,
   "metadata": {},
   "outputs": [
    {
     "data": {
      "image/png": "[encoded data removed]",
      "text/plain": [
       "<Figure size 432x288 with 1 Axes>"
      ]
     },
     "metadata": {
      "needs_background": "light"
     },
     "output_type": "display_data"
    }
   ],
   "source": [
    "import matplotlib.pyplot as plt\n",
    "fdist.plot(30,cumulative=False)\n",
    "plt.show()"
   ]
  },
  {
   "cell_type": "markdown",
   "metadata": {},
   "source": [
    "And, Finally we can see set of words that are most common among all the reviews in dataset. These most frequent words are used for modelling further to get better results."
   ]
  },
  {
   "cell_type": "markdown",
   "metadata": {},
   "source": [
    "### Building of Bag of Words model"
   ]
  },
  {
   "cell_type": "markdown",
   "metadata": {},
   "source": [
    "- Bag of Words model is basically used to convert the normal text into a set of individual words, also called bag of words which keeps a count of the total occurrences of most frequently used words.\n",
    "\n",
    "- BoW model is created using CountVectorizer() function.\n",
    "\n",
    "- CountVectorizer()function combinely tokenize and build vocabulary of known words.\n",
    "\n",
    "- This creates sparse matrix. A matrix is a two-dimensional data object made of m rows and n columns, therefore having total m x n values. If most of the elements of the matrix have 0 value, then it is called a sparse matrix."
   ]
  },
  {
   "cell_type": "markdown",
   "metadata": {},
   "source": [
    "### Splitting datset into Train and test data for fitting various model:"
   ]
  },
  {
   "cell_type": "code",
   "execution_count": 40,
   "metadata": {},
   "outputs": [],
   "source": [
    "import pandas as pd\n",
    "from sklearn.model_selection import train_test_split\n",
    "y=df['sentiment']\n",
    "x=df['review']\n",
    "X_train,X_test,y_train,y_test= train_test_split(x,y,test_size=0.33,random_state=0)\n"
   ]
  },
  {
   "cell_type": "code",
   "execution_count": 41,
   "metadata": {},
   "outputs": [],
   "source": [
    "from sklearn.feature_extraction.text import CountVectorizer\n",
    "vectorizer=CountVectorizer(ngram_range = (1,1))\n",
    "count_train=vectorizer.fit_transform(X_train.values)\n",
    "count_test=vectorizer.transform(X_test.values)"
   ]
  },
  {
   "cell_type": "code",
   "execution_count": 42,
   "metadata": {},
   "outputs": [],
   "source": [
    "from sklearn.metrics import roc_curve\n",
    "from sklearn.metrics import roc_auc_score"
   ]
  },
  {
   "cell_type": "markdown",
   "metadata": {},
   "source": [
    "## LOGISTIC REGRESSION"
   ]
  },
  {
   "cell_type": "code",
   "execution_count": 43,
   "metadata": {},
   "outputs": [
    {
     "name": "stdout",
     "output_type": "stream",
     "text": [
      "Logistic train roc-auc: 0.9641860392923667\n",
      "Logistic test roc-auc: 0.9192455039066356\n"
     ]
    }
   ],
   "source": [
    "from sklearn.linear_model import LogisticRegression\n",
    "log_classifier=LogisticRegression()\n",
    "log_classifier.fit(count_train,y_train)\n",
    "ytrain_pred = log_classifier.predict_proba(count_train)\n",
    "print('Logistic train roc-auc: {}'.format(roc_auc_score(y_train, ytrain_pred[:,1])))\n",
    "ytest_pred = log_classifier.predict_proba(count_test)\n",
    "print('Logistic test roc-auc: {}'.format(roc_auc_score(y_test, ytest_pred[:,1])))"
   ]
  },
  {
   "cell_type": "markdown",
   "metadata": {},
   "source": [
    "## NAIVE BAYES"
   ]
  },
  {
   "cell_type": "code",
   "execution_count": 44,
   "metadata": {},
   "outputs": [
    {
     "name": "stdout",
     "output_type": "stream",
     "text": [
      "NB train roc-auc: 0.919997129304163\n",
      "NB test roc-auc: 0.9002064482214842\n"
     ]
    }
   ],
   "source": [
    "from sklearn.naive_bayes import MultinomialNB\n",
    "from sklearn import metrics\n",
    "nb_classifier=MultinomialNB()\n",
    "nb_classifier.fit(count_train,y_train)\n",
    "ytrain_pred2 = nb_classifier.predict_proba(count_train)\n",
    "print('NB train roc-auc: {}'.format(roc_auc_score(y_train, ytrain_pred2[:,1])))\n",
    "ytest_pred2 = nb_classifier.predict_proba(count_test)\n",
    "print('NB test roc-auc: {}'.format(roc_auc_score(y_test, ytest_pred2[:,1])))"
   ]
  },
  {
   "cell_type": "markdown",
   "metadata": {},
   "source": [
    "## RANDOM FOREST"
   ]
  },
  {
   "cell_type": "code",
   "execution_count": 45,
   "metadata": {},
   "outputs": [
    {
     "name": "stdout",
     "output_type": "stream",
     "text": [
      "RF train roc-auc: 0.9998221228626754\n",
      "RF test roc-auc: 0.81953940907577\n"
     ]
    }
   ],
   "source": [
    "from sklearn.ensemble import RandomForestClassifier\n",
    "rf_model = RandomForestClassifier()\n",
    "rf_model.fit(count_train, y_train)\n",
    "ytrain_pred1 = rf_model.predict_proba(count_train)\n",
    "print('RF train roc-auc: {}'.format(roc_auc_score(y_train, ytrain_pred1[:,1])))\n",
    "ytest_pred1 = rf_model.predict_proba(count_test)\n",
    "print('RF test roc-auc: {}'.format(roc_auc_score(y_test, ytest_pred1[:,1])))"
   ]
  },
  {
   "cell_type": "markdown",
   "metadata": {},
   "source": [
    "## XGBOOST ALGORITHM"
   ]
  },
  {
   "cell_type": "code",
   "execution_count": 46,
   "metadata": {},
   "outputs": [
    {
     "name": "stdout",
     "output_type": "stream",
     "text": [
      "XGBOOST train roc-auc: 0.9378975511545063\n",
      "XGBOOST test roc-auc: 0.9158235890400612\n"
     ]
    }
   ],
   "source": [
    "from xgboost import XGBClassifier\n",
    "xg_model= XGBClassifier()\n",
    "xg_model.fit(count_train,y_train)\n",
    "ytrain_pred3 = xg_model.predict_proba(count_train)\n",
    "print('XGBOOST train roc-auc: {}'.format(roc_auc_score(y_train, ytrain_pred3[:,1])))\n",
    "ytest_pred3 = xg_model.predict_proba(count_test)\n",
    "print('XGBOOST test roc-auc: {}'.format(roc_auc_score(y_test, ytest_pred3[:,1])))"
   ]
  },
  {
   "cell_type": "code",
   "execution_count": 47,
   "metadata": {},
   "outputs": [
    {
     "name": "stdout",
     "output_type": "stream",
     "text": [
      "Ensemble test roc-auc: 0.9324430764662776\n"
     ]
    }
   ],
   "source": [
    "pred=[]\n",
    "for model in [log_classifier,rf_model,nb_classifier,xg_model]:\n",
    "    pred.append(pd.Series(model.predict_proba(count_test)[:,1]))\n",
    "final_prediction=pd.concat(pred,axis=1).mean(axis=1)\n",
    "print('Ensemble test roc-auc: {}'.format(roc_auc_score(y_test,final_prediction)))"
   ]
  },
  {
   "cell_type": "code",
   "execution_count": 48,
   "metadata": {},
   "outputs": [
    {
     "data": {
      "text/html": [
       "<div>\n",
       "<style scoped>\n",
       "    .dataframe tbody tr th:only-of-type {\n",
       "        vertical-align: middle;\n",
       "    }\n",
       "\n",
       "    .dataframe tbody tr th {\n",
       "        vertical-align: top;\n",
       "    }\n",
       "\n",
       "    .dataframe thead th {\n",
       "        text-align: right;\n",
       "    }\n",
       "</style>\n",
       "<table border=\"1\" class=\"dataframe\">\n",
       "  <thead>\n",
       "    <tr style=\"text-align: right;\">\n",
       "      <th></th>\n",
       "      <th>0</th>\n",
       "      <th>1</th>\n",
       "      <th>2</th>\n",
       "      <th>3</th>\n",
       "    </tr>\n",
       "  </thead>\n",
       "  <tbody>\n",
       "    <tr>\n",
       "      <td>0</td>\n",
       "      <td>9.995606e-01</td>\n",
       "      <td>1.0</td>\n",
       "      <td>9.999998e-01</td>\n",
       "      <td>0.991054</td>\n",
       "    </tr>\n",
       "    <tr>\n",
       "      <td>1</td>\n",
       "      <td>9.322026e-01</td>\n",
       "      <td>0.5</td>\n",
       "      <td>2.842419e-01</td>\n",
       "      <td>0.294137</td>\n",
       "    </tr>\n",
       "    <tr>\n",
       "      <td>2</td>\n",
       "      <td>9.999902e-01</td>\n",
       "      <td>0.6</td>\n",
       "      <td>9.999995e-01</td>\n",
       "      <td>0.997345</td>\n",
       "    </tr>\n",
       "    <tr>\n",
       "      <td>3</td>\n",
       "      <td>1.748276e-02</td>\n",
       "      <td>0.5</td>\n",
       "      <td>4.975948e-08</td>\n",
       "      <td>0.375512</td>\n",
       "    </tr>\n",
       "    <tr>\n",
       "      <td>4</td>\n",
       "      <td>9.968811e-01</td>\n",
       "      <td>1.0</td>\n",
       "      <td>9.999942e-01</td>\n",
       "      <td>0.996141</td>\n",
       "    </tr>\n",
       "    <tr>\n",
       "      <td>...</td>\n",
       "      <td>...</td>\n",
       "      <td>...</td>\n",
       "      <td>...</td>\n",
       "      <td>...</td>\n",
       "    </tr>\n",
       "    <tr>\n",
       "      <td>129908</td>\n",
       "      <td>7.451250e-11</td>\n",
       "      <td>0.0</td>\n",
       "      <td>5.508059e-54</td>\n",
       "      <td>0.021751</td>\n",
       "    </tr>\n",
       "    <tr>\n",
       "      <td>129909</td>\n",
       "      <td>9.298893e-01</td>\n",
       "      <td>0.8</td>\n",
       "      <td>9.457057e-01</td>\n",
       "      <td>0.825020</td>\n",
       "    </tr>\n",
       "    <tr>\n",
       "      <td>129910</td>\n",
       "      <td>9.947120e-01</td>\n",
       "      <td>0.8</td>\n",
       "      <td>9.998911e-01</td>\n",
       "      <td>0.877783</td>\n",
       "    </tr>\n",
       "    <tr>\n",
       "      <td>129911</td>\n",
       "      <td>9.984743e-01</td>\n",
       "      <td>0.9</td>\n",
       "      <td>9.999974e-01</td>\n",
       "      <td>0.969426</td>\n",
       "    </tr>\n",
       "    <tr>\n",
       "      <td>129912</td>\n",
       "      <td>9.486642e-01</td>\n",
       "      <td>0.9</td>\n",
       "      <td>9.999467e-01</td>\n",
       "      <td>0.915590</td>\n",
       "    </tr>\n",
       "  </tbody>\n",
       "</table>\n",
       "<p>129913 rows × 4 columns</p>\n",
       "</div>"
      ],
      "text/plain": [
       "                   0    1             2         3\n",
       "0       9.995606e-01  1.0  9.999998e-01  0.991054\n",
       "1       9.322026e-01  0.5  2.842419e-01  0.294137\n",
       "2       9.999902e-01  0.6  9.999995e-01  0.997345\n",
       "3       1.748276e-02  0.5  4.975948e-08  0.375512\n",
       "4       9.968811e-01  1.0  9.999942e-01  0.996141\n",
       "...              ...  ...           ...       ...\n",
       "129908  7.451250e-11  0.0  5.508059e-54  0.021751\n",
       "129909  9.298893e-01  0.8  9.457057e-01  0.825020\n",
       "129910  9.947120e-01  0.8  9.998911e-01  0.877783\n",
       "129911  9.984743e-01  0.9  9.999974e-01  0.969426\n",
       "129912  9.486642e-01  0.9  9.999467e-01  0.915590\n",
       "\n",
       "[129913 rows x 4 columns]"
      ]
     },
     "execution_count": 48,
     "metadata": {},
     "output_type": "execute_result"
    }
   ],
   "source": [
    "pd.concat(pred,axis=1)"
   ]
  },
  {
   "cell_type": "code",
   "execution_count": 49,
   "metadata": {},
   "outputs": [
    {
     "data": {
      "text/plain": [
       "0         0.997654\n",
       "1         0.502645\n",
       "2         0.899334\n",
       "3         0.223249\n",
       "4         0.998254\n",
       "            ...   \n",
       "129908    0.005438\n",
       "129909    0.875154\n",
       "129910    0.918097\n",
       "129911    0.966974\n",
       "129912    0.941050\n",
       "Length: 129913, dtype: float64"
      ]
     },
     "execution_count": 49,
     "metadata": {},
     "output_type": "execute_result"
    }
   ],
   "source": [
    "final_prediction"
   ]
  },
  {
   "cell_type": "code",
   "execution_count": 50,
   "metadata": {},
   "outputs": [
    {
     "data": {
      "text/plain": [
       "array([1.99997169, 0.99997169, 0.99947281, ..., 0.03285117, 0.03269862,\n",
       "       0.00226827])"
      ]
     },
     "execution_count": 50,
     "metadata": {},
     "output_type": "execute_result"
    }
   ],
   "source": [
    "#### Calculate the ROC Curve\n",
    "fpr, tpr, thresholds = roc_curve(y_test, final_prediction)\n",
    "thresholds"
   ]
  },
  {
   "cell_type": "code",
   "execution_count": 51,
   "metadata": {},
   "outputs": [
    {
     "data": {
      "text/html": [
       "<div>\n",
       "<style scoped>\n",
       "    .dataframe tbody tr th:only-of-type {\n",
       "        vertical-align: middle;\n",
       "    }\n",
       "\n",
       "    .dataframe tbody tr th {\n",
       "        vertical-align: top;\n",
       "    }\n",
       "\n",
       "    .dataframe thead th {\n",
       "        text-align: right;\n",
       "    }\n",
       "</style>\n",
       "<table border=\"1\" class=\"dataframe\">\n",
       "  <thead>\n",
       "    <tr style=\"text-align: right;\">\n",
       "      <th></th>\n",
       "      <th>thresholds</th>\n",
       "      <th>accuracy</th>\n",
       "    </tr>\n",
       "  </thead>\n",
       "  <tbody>\n",
       "    <tr>\n",
       "      <td>13501</td>\n",
       "      <td>0.549217</td>\n",
       "      <td>0.889657</td>\n",
       "    </tr>\n",
       "    <tr>\n",
       "      <td>13498</td>\n",
       "      <td>0.549419</td>\n",
       "      <td>0.889649</td>\n",
       "    </tr>\n",
       "    <tr>\n",
       "      <td>13500</td>\n",
       "      <td>0.549225</td>\n",
       "      <td>0.889649</td>\n",
       "    </tr>\n",
       "    <tr>\n",
       "      <td>13502</td>\n",
       "      <td>0.549188</td>\n",
       "      <td>0.889649</td>\n",
       "    </tr>\n",
       "    <tr>\n",
       "      <td>13503</td>\n",
       "      <td>0.549158</td>\n",
       "      <td>0.889649</td>\n",
       "    </tr>\n",
       "  </tbody>\n",
       "</table>\n",
       "</div>"
      ],
      "text/plain": [
       "       thresholds  accuracy\n",
       "13501    0.549217  0.889657\n",
       "13498    0.549419  0.889649\n",
       "13500    0.549225  0.889649\n",
       "13502    0.549188  0.889649\n",
       "13503    0.549158  0.889649"
      ]
     },
     "execution_count": 51,
     "metadata": {},
     "output_type": "execute_result"
    }
   ],
   "source": [
    "from sklearn.metrics import accuracy_score\n",
    "accuracy_ls = []\n",
    "for thres in thresholds:\n",
    "    y_pred = np.where(final_prediction>thres,1,0)\n",
    "    accuracy_ls.append(accuracy_score(y_test, y_pred, normalize=True))\n",
    "    \n",
    "accuracy_ls = pd.concat([pd.Series(thresholds), pd.Series(accuracy_ls)],\n",
    "                        axis=1)\n",
    "accuracy_ls.columns = ['thresholds', 'accuracy']\n",
    "accuracy_ls.sort_values(by='accuracy', ascending=False, inplace=True)\n",
    "accuracy_ls.head()"
   ]
  },
  {
   "cell_type": "code",
   "execution_count": 52,
   "metadata": {},
   "outputs": [
    {
     "data": {
      "text/html": [
       "<div>\n",
       "<style scoped>\n",
       "    .dataframe tbody tr th:only-of-type {\n",
       "        vertical-align: middle;\n",
       "    }\n",
       "\n",
       "    .dataframe tbody tr th {\n",
       "        vertical-align: top;\n",
       "    }\n",
       "\n",
       "    .dataframe thead th {\n",
       "        text-align: right;\n",
       "    }\n",
       "</style>\n",
       "<table border=\"1\" class=\"dataframe\">\n",
       "  <thead>\n",
       "    <tr style=\"text-align: right;\">\n",
       "      <th></th>\n",
       "      <th>thresholds</th>\n",
       "      <th>accuracy</th>\n",
       "    </tr>\n",
       "  </thead>\n",
       "  <tbody>\n",
       "    <tr>\n",
       "      <td>13501</td>\n",
       "      <td>0.549217</td>\n",
       "      <td>0.889657</td>\n",
       "    </tr>\n",
       "  </tbody>\n",
       "</table>\n",
       "</div>"
      ],
      "text/plain": [
       "       thresholds  accuracy\n",
       "13501    0.549217  0.889657"
      ]
     },
     "execution_count": 52,
     "metadata": {},
     "output_type": "execute_result"
    }
   ],
   "source": [
    "a=accuracy_ls[accuracy_ls.accuracy == accuracy_ls.accuracy.max()]\n",
    "a"
   ]
  },
  {
   "cell_type": "code",
   "execution_count": 53,
   "metadata": {},
   "outputs": [
    {
     "data": {
      "text/plain": [
       "0.5492166081253529"
      ]
     },
     "execution_count": 53,
     "metadata": {},
     "output_type": "execute_result"
    }
   ],
   "source": [
    "a.thresholds.max()"
   ]
  },
  {
   "cell_type": "code",
   "execution_count": 54,
   "metadata": {},
   "outputs": [
    {
     "data": {
      "image/png": "[encoded data removed]",
      "text/plain": [
       "<Figure size 432x288 with 1 Axes>"
      ]
     },
     "metadata": {
      "needs_background": "light"
     },
     "output_type": "display_data"
    }
   ],
   "source": [
    "def plot_roc_curve(fpr, tpr):\n",
    "    plt.plot(fpr, tpr, color='orange', label='ROC')\n",
    "    plt.plot([0, 1], [0, 1], color='darkblue', linestyle='--')\n",
    "    plt.xlabel('False Positive Rate')\n",
    "    plt.ylabel('True Positive Rate')\n",
    "    plt.title('Receiver Operating Characteristic (ROC) Curve')\n",
    "    plt.legend()\n",
    "    plt.show()\n",
    "plot_roc_curve(fpr,tpr)"
   ]
  },
  {
   "cell_type": "markdown",
   "metadata": {},
   "source": [
    "### Logistic Regression with threshold on Unigram model:"
   ]
  },
  {
   "cell_type": "code",
   "execution_count": 55,
   "metadata": {},
   "outputs": [
    {
     "data": {
      "text/html": [
       "<div>\n",
       "<style scoped>\n",
       "    .dataframe tbody tr th:only-of-type {\n",
       "        vertical-align: middle;\n",
       "    }\n",
       "\n",
       "    .dataframe tbody tr th {\n",
       "        vertical-align: top;\n",
       "    }\n",
       "\n",
       "    .dataframe thead th {\n",
       "        text-align: right;\n",
       "    }\n",
       "</style>\n",
       "<table border=\"1\" class=\"dataframe\">\n",
       "  <thead>\n",
       "    <tr style=\"text-align: right;\">\n",
       "      <th></th>\n",
       "      <th>0</th>\n",
       "    </tr>\n",
       "  </thead>\n",
       "  <tbody>\n",
       "    <tr>\n",
       "      <td>accuracy</td>\n",
       "      <td>0.859290</td>\n",
       "    </tr>\n",
       "    <tr>\n",
       "      <td>recall</td>\n",
       "      <td>0.863881</td>\n",
       "    </tr>\n",
       "    <tr>\n",
       "      <td>precision</td>\n",
       "      <td>0.951255</td>\n",
       "    </tr>\n",
       "    <tr>\n",
       "      <td>roc_auc_score</td>\n",
       "      <td>0.853445</td>\n",
       "    </tr>\n",
       "  </tbody>\n",
       "</table>\n",
       "</div>"
      ],
      "text/plain": [
       "                      0\n",
       "accuracy       0.859290\n",
       "recall         0.863881\n",
       "precision      0.951255\n",
       "roc_auc_score  0.853445"
      ]
     },
     "execution_count": 55,
     "metadata": {},
     "output_type": "execute_result"
    }
   ],
   "source": [
    "from sklearn.metrics import accuracy_score, confusion_matrix, recall_score, roc_auc_score, precision_score\n",
    "clf = LogisticRegression(class_weight=\"balanced\")\n",
    "clf.fit(count_train, y_train)\n",
    "THRESHOLD =a.thresholds.max()\n",
    "preds = np.where(clf.predict_proba(count_test)[:,1] > THRESHOLD, 1, 0)\n",
    "preds\n",
    "pd.DataFrame(data=[accuracy_score(y_test, preds), recall_score(y_test, preds),\n",
    "                   precision_score(y_test, preds), roc_auc_score(y_test, preds)], \n",
    "             index=[\"accuracy\", \"recall\", \"precision\", \"roc_auc_score\"])"
   ]
  },
  {
   "cell_type": "markdown",
   "metadata": {},
   "source": [
    "### Random Forest with threshold on Unigram model:"
   ]
  },
  {
   "cell_type": "code",
   "execution_count": 56,
   "metadata": {},
   "outputs": [
    {
     "data": {
      "text/html": [
       "<div>\n",
       "<style scoped>\n",
       "    .dataframe tbody tr th:only-of-type {\n",
       "        vertical-align: middle;\n",
       "    }\n",
       "\n",
       "    .dataframe tbody tr th {\n",
       "        vertical-align: top;\n",
       "    }\n",
       "\n",
       "    .dataframe thead th {\n",
       "        text-align: right;\n",
       "    }\n",
       "</style>\n",
       "<table border=\"1\" class=\"dataframe\">\n",
       "  <thead>\n",
       "    <tr style=\"text-align: right;\">\n",
       "      <th></th>\n",
       "      <th>0</th>\n",
       "    </tr>\n",
       "  </thead>\n",
       "  <tbody>\n",
       "    <tr>\n",
       "      <td>accuracy</td>\n",
       "      <td>0.821773</td>\n",
       "    </tr>\n",
       "    <tr>\n",
       "      <td>recall</td>\n",
       "      <td>0.957262</td>\n",
       "    </tr>\n",
       "    <tr>\n",
       "      <td>precision</td>\n",
       "      <td>0.837495</td>\n",
       "    </tr>\n",
       "    <tr>\n",
       "      <td>roc_auc_score</td>\n",
       "      <td>0.649270</td>\n",
       "    </tr>\n",
       "  </tbody>\n",
       "</table>\n",
       "</div>"
      ],
      "text/plain": [
       "                      0\n",
       "accuracy       0.821773\n",
       "recall         0.957262\n",
       "precision      0.837495\n",
       "roc_auc_score  0.649270"
      ]
     },
     "execution_count": 56,
     "metadata": {},
     "output_type": "execute_result"
    }
   ],
   "source": [
    "clf1 = RandomForestClassifier()\n",
    "clf1.fit(count_train, y_train)\n",
    "THRESHOLD = a.thresholds.max()\n",
    "preds1 = np.where(clf1.predict_proba(count_test)[:,1] > THRESHOLD, 1, 0)\n",
    "\n",
    "pd.DataFrame(data=[accuracy_score(y_test, preds1), recall_score(y_test, preds1),\n",
    "                   precision_score(y_test, preds1), roc_auc_score(y_test, preds1)], \n",
    "             index=[\"accuracy\", \"recall\", \"precision\", \"roc_auc_score\"])"
   ]
  },
  {
   "cell_type": "markdown",
   "metadata": {},
   "source": [
    "### Naive Bayes with Threshold on Unigram model:"
   ]
  },
  {
   "cell_type": "code",
   "execution_count": 57,
   "metadata": {},
   "outputs": [
    {
     "data": {
      "text/html": [
       "<div>\n",
       "<style scoped>\n",
       "    .dataframe tbody tr th:only-of-type {\n",
       "        vertical-align: middle;\n",
       "    }\n",
       "\n",
       "    .dataframe tbody tr th {\n",
       "        vertical-align: top;\n",
       "    }\n",
       "\n",
       "    .dataframe thead th {\n",
       "        text-align: right;\n",
       "    }\n",
       "</style>\n",
       "<table border=\"1\" class=\"dataframe\">\n",
       "  <thead>\n",
       "    <tr style=\"text-align: right;\">\n",
       "      <th></th>\n",
       "      <th>0</th>\n",
       "    </tr>\n",
       "  </thead>\n",
       "  <tbody>\n",
       "    <tr>\n",
       "      <td>accuracy</td>\n",
       "      <td>0.868373</td>\n",
       "    </tr>\n",
       "    <tr>\n",
       "      <td>recall</td>\n",
       "      <td>0.910123</td>\n",
       "    </tr>\n",
       "    <tr>\n",
       "      <td>precision</td>\n",
       "      <td>0.920257</td>\n",
       "    </tr>\n",
       "    <tr>\n",
       "      <td>roc_auc_score</td>\n",
       "      <td>0.815219</td>\n",
       "    </tr>\n",
       "  </tbody>\n",
       "</table>\n",
       "</div>"
      ],
      "text/plain": [
       "                      0\n",
       "accuracy       0.868373\n",
       "recall         0.910123\n",
       "precision      0.920257\n",
       "roc_auc_score  0.815219"
      ]
     },
     "execution_count": 57,
     "metadata": {},
     "output_type": "execute_result"
    }
   ],
   "source": [
    "clf2 = MultinomialNB()\n",
    "clf2.fit(count_train, y_train)\n",
    "THRESHOLD = a.thresholds.max()\n",
    "preds2 = np.where(clf2.predict_proba(count_test)[:,1] > THRESHOLD, 1, 0)\n",
    "\n",
    "pd.DataFrame(data=[accuracy_score(y_test, preds2), recall_score(y_test, preds2),\n",
    "                   precision_score(y_test, preds2), roc_auc_score(y_test, preds2)], \n",
    "             index=[\"accuracy\", \"recall\", \"precision\", \"roc_auc_score\"])"
   ]
  },
  {
   "cell_type": "markdown",
   "metadata": {},
   "source": [
    "### XGBoost Classifier with Threshold on Unigram model:"
   ]
  },
  {
   "cell_type": "code",
   "execution_count": 58,
   "metadata": {},
   "outputs": [
    {
     "data": {
      "text/html": [
       "<div>\n",
       "<style scoped>\n",
       "    .dataframe tbody tr th:only-of-type {\n",
       "        vertical-align: middle;\n",
       "    }\n",
       "\n",
       "    .dataframe tbody tr th {\n",
       "        vertical-align: top;\n",
       "    }\n",
       "\n",
       "    .dataframe thead th {\n",
       "        text-align: right;\n",
       "    }\n",
       "</style>\n",
       "<table border=\"1\" class=\"dataframe\">\n",
       "  <thead>\n",
       "    <tr style=\"text-align: right;\">\n",
       "      <th></th>\n",
       "      <th>0</th>\n",
       "    </tr>\n",
       "  </thead>\n",
       "  <tbody>\n",
       "    <tr>\n",
       "      <td>accuracy</td>\n",
       "      <td>0.873207</td>\n",
       "    </tr>\n",
       "    <tr>\n",
       "      <td>recall</td>\n",
       "      <td>0.949407</td>\n",
       "    </tr>\n",
       "    <tr>\n",
       "      <td>precision</td>\n",
       "      <td>0.894520</td>\n",
       "    </tr>\n",
       "    <tr>\n",
       "      <td>roc_auc_score</td>\n",
       "      <td>0.776191</td>\n",
       "    </tr>\n",
       "  </tbody>\n",
       "</table>\n",
       "</div>"
      ],
      "text/plain": [
       "                      0\n",
       "accuracy       0.873207\n",
       "recall         0.949407\n",
       "precision      0.894520\n",
       "roc_auc_score  0.776191"
      ]
     },
     "execution_count": 58,
     "metadata": {},
     "output_type": "execute_result"
    }
   ],
   "source": [
    "clf3 = XGBClassifier()\n",
    "clf3.fit(count_train, y_train)\n",
    "THRESHOLD = a.thresholds.max()\n",
    "preds3 = np.where(clf3.predict_proba(count_test)[:,1] > THRESHOLD, 1, 0)\n",
    "\n",
    "pd.DataFrame(data=[accuracy_score(y_test, preds3), recall_score(y_test, preds3),\n",
    "                   precision_score(y_test, preds3), roc_auc_score(y_test, preds3)], \n",
    "             index=[\"accuracy\", \"recall\", \"precision\", \"roc_auc_score\"])"
   ]
  },
  {
   "cell_type": "markdown",
   "metadata": {},
   "source": [
    "* There are drawbacks with Bag of Words as this do not consider semantic meaning of sentences.Also Bag of Words model is unable to remove any outliers in the collection of words.\n",
    "  And hence, we will go to next model of bi-gram and n-gram model\n",
    "\n",
    "##### Bi-gram basically means pair of two consecutive words used for creating dictionary"
   ]
  },
  {
   "cell_type": "markdown",
   "metadata": {},
   "source": [
    "# BIGRAM MODEL:"
   ]
  },
  {
   "cell_type": "code",
   "execution_count": 59,
   "metadata": {},
   "outputs": [],
   "source": [
    "count=CountVectorizer(ngram_range=(1,2))\n",
    "Bigram_train=count.fit_transform(X_train.values)\n",
    "Bigram_test=count.transform(X_test.values)"
   ]
  },
  {
   "cell_type": "markdown",
   "metadata": {},
   "source": [
    "## LOGISTIC REGRESSION FOR BI-GRAM MODEL:"
   ]
  },
  {
   "cell_type": "code",
   "execution_count": 60,
   "metadata": {},
   "outputs": [
    {
     "name": "stdout",
     "output_type": "stream",
     "text": [
      "Logistic train roc-auc: 0.9999798224237666\n",
      "Logistic test roc-auc: 0.9465126371183313\n"
     ]
    }
   ],
   "source": [
    "from sklearn.linear_model import LogisticRegression\n",
    "log_classifier1=LogisticRegression()\n",
    "log_classifier1.fit(Bigram_train,y_train)\n",
    "ytrain_pred01 = log_classifier1.predict_proba(Bigram_train)\n",
    "print('Logistic train roc-auc: {}'.format(roc_auc_score(y_train, ytrain_pred01[:,1])))\n",
    "ytest_pred01 = log_classifier1.predict_proba(Bigram_test)\n",
    "print('Logistic test roc-auc: {}'.format(roc_auc_score(y_test, ytest_pred01[:,1])))"
   ]
  },
  {
   "cell_type": "markdown",
   "metadata": {},
   "source": [
    "## NAIVE BAYES FOR BI-GRAM MODEL:"
   ]
  },
  {
   "cell_type": "code",
   "execution_count": 61,
   "metadata": {},
   "outputs": [
    {
     "name": "stdout",
     "output_type": "stream",
     "text": [
      "NB train roc-auc: 0.9784252033313041\n",
      "NB test roc-auc: 0.9026639574738469\n"
     ]
    }
   ],
   "source": [
    "from sklearn.naive_bayes import MultinomialNB\n",
    "from sklearn import metrics\n",
    "nb_classifier1=MultinomialNB()\n",
    "nb_classifier1.fit(Bigram_train,y_train)\n",
    "ytrain_pred02 = nb_classifier1.predict_proba(Bigram_train)\n",
    "print('NB train roc-auc: {}'.format(roc_auc_score(y_train, ytrain_pred02[:,1])))\n",
    "ytest_pred02 = nb_classifier1.predict_proba(Bigram_test)\n",
    "print('NB test roc-auc: {}'.format(roc_auc_score(y_test, ytest_pred02[:,1])))"
   ]
  },
  {
   "cell_type": "markdown",
   "metadata": {},
   "source": [
    "## RANDOM FOREST FOR BI-GRAM MODEL:"
   ]
  },
  {
   "cell_type": "code",
   "execution_count": 62,
   "metadata": {},
   "outputs": [
    {
     "name": "stdout",
     "output_type": "stream",
     "text": [
      "RF train roc-auc: 0.9998610896831301\n",
      "RF test roc-auc: 0.8346455339197582\n"
     ]
    }
   ],
   "source": [
    "from sklearn.ensemble import RandomForestClassifier\n",
    "rf_model1 = RandomForestClassifier()\n",
    "rf_model1.fit(Bigram_train, y_train)\n",
    "ytrain_pred03 = rf_model1.predict_proba(Bigram_train)\n",
    "print('RF train roc-auc: {}'.format(roc_auc_score(y_train, ytrain_pred03[:,1])))\n",
    "ytest_pred03 = rf_model1.predict_proba(Bigram_test)\n",
    "print('RF test roc-auc: {}'.format(roc_auc_score(y_test, ytest_pred03[:,1])))"
   ]
  },
  {
   "cell_type": "markdown",
   "metadata": {},
   "source": [
    "## XGBOOST FOR BI-GRAM MODEL:"
   ]
  },
  {
   "cell_type": "code",
   "execution_count": 63,
   "metadata": {
    "scrolled": false
   },
   "outputs": [
    {
     "name": "stdout",
     "output_type": "stream",
     "text": [
      "XGBOOST train roc-auc: 0.9462932469218119\n",
      "XGBOOST test roc-auc: 0.9281840525820514\n"
     ]
    }
   ],
   "source": [
    "from xgboost import XGBClassifier\n",
    "xg_model1= XGBClassifier()\n",
    "xg_model1.fit(Bigram_train,y_train)\n",
    "ytrain_pred04 = xg_model1.predict_proba(Bigram_train)\n",
    "print('XGBOOST train roc-auc: {}'.format(roc_auc_score(y_train, ytrain_pred04[:,1])))\n",
    "ytest_pred04 = xg_model1.predict_proba(Bigram_test)\n",
    "print('XGBOOST test roc-auc: {}'.format(roc_auc_score(y_test, ytest_pred04[:,1])))"
   ]
  },
  {
   "cell_type": "code",
   "execution_count": 64,
   "metadata": {},
   "outputs": [
    {
     "name": "stdout",
     "output_type": "stream",
     "text": [
      "Ensemble test roc-auc: 0.9513834733781685\n"
     ]
    }
   ],
   "source": [
    "pred1=[]\n",
    "for model in [log_classifier1,rf_model1,nb_classifier1,xg_model1]:\n",
    "    pred1.append(pd.Series(model.predict_proba(Bigram_test)[:,1]))\n",
    "final_prediction1=pd.concat(pred1,axis=1).mean(axis=1)\n",
    "print('Ensemble test roc-auc: {}'.format(roc_auc_score(y_test,final_prediction1)))"
   ]
  },
  {
   "cell_type": "code",
   "execution_count": 65,
   "metadata": {},
   "outputs": [
    {
     "data": {
      "text/plain": [
       "0         0.998455\n",
       "1         0.785207\n",
       "2         0.974006\n",
       "3         0.230357\n",
       "4         0.997478\n",
       "            ...   \n",
       "129908    0.029684\n",
       "129909    0.912526\n",
       "129910    0.958481\n",
       "129911    0.946838\n",
       "129912    0.924326\n",
       "Length: 129913, dtype: float64"
      ]
     },
     "execution_count": 65,
     "metadata": {},
     "output_type": "execute_result"
    }
   ],
   "source": [
    "pd.concat(pred1,axis=1)\n",
    "final_prediction1"
   ]
  },
  {
   "cell_type": "code",
   "execution_count": 66,
   "metadata": {},
   "outputs": [],
   "source": [
    "fpr1, tpr1, thresholds1 = roc_curve(y_test, final_prediction1)"
   ]
  },
  {
   "cell_type": "code",
   "execution_count": 79,
   "metadata": {},
   "outputs": [
    {
     "data": {
      "text/html": [
       "<div>\n",
       "<style scoped>\n",
       "    .dataframe tbody tr th:only-of-type {\n",
       "        vertical-align: middle;\n",
       "    }\n",
       "\n",
       "    .dataframe tbody tr th {\n",
       "        vertical-align: top;\n",
       "    }\n",
       "\n",
       "    .dataframe thead th {\n",
       "        text-align: right;\n",
       "    }\n",
       "</style>\n",
       "<table border=\"1\" class=\"dataframe\">\n",
       "  <thead>\n",
       "    <tr style=\"text-align: right;\">\n",
       "      <th></th>\n",
       "      <th>thresholds</th>\n",
       "      <th>accuracy</th>\n",
       "    </tr>\n",
       "  </thead>\n",
       "  <tbody>\n",
       "    <tr>\n",
       "      <td>9873</td>\n",
       "      <td>0.678167</td>\n",
       "      <td>0.913889</td>\n",
       "    </tr>\n",
       "    <tr>\n",
       "      <td>9872</td>\n",
       "      <td>0.678188</td>\n",
       "      <td>0.913889</td>\n",
       "    </tr>\n",
       "    <tr>\n",
       "      <td>9846</td>\n",
       "      <td>0.679052</td>\n",
       "      <td>0.913889</td>\n",
       "    </tr>\n",
       "    <tr>\n",
       "      <td>9847</td>\n",
       "      <td>0.678960</td>\n",
       "      <td>0.913889</td>\n",
       "    </tr>\n",
       "    <tr>\n",
       "      <td>9863</td>\n",
       "      <td>0.678381</td>\n",
       "      <td>0.913881</td>\n",
       "    </tr>\n",
       "  </tbody>\n",
       "</table>\n",
       "</div>"
      ],
      "text/plain": [
       "      thresholds  accuracy\n",
       "9873    0.678167  0.913889\n",
       "9872    0.678188  0.913889\n",
       "9846    0.679052  0.913889\n",
       "9847    0.678960  0.913889\n",
       "9863    0.678381  0.913881"
      ]
     },
     "execution_count": 79,
     "metadata": {},
     "output_type": "execute_result"
    }
   ],
   "source": [
    "from sklearn.metrics import accuracy_score\n",
    "accuracy_ls1 = []\n",
    "for thres in thresholds:\n",
    "    y_pred1 = np.where(final_prediction1 >thres,1,0)\n",
    "    accuracy_ls1.append(accuracy_score(y_test, y_pred1, normalize=True))\n",
    "    \n",
    "accuracy_ls1 = pd.concat([pd.Series(thresholds), pd.Series(accuracy_ls1)],\n",
    "                        axis=1)\n",
    "accuracy_ls1.columns = ['thresholds', 'accuracy']\n",
    "accuracy_ls1.sort_values(by='accuracy', ascending=False, inplace=True)\n",
    "accuracy_ls1.head()"
   ]
  },
  {
   "cell_type": "code",
   "execution_count": 80,
   "metadata": {},
   "outputs": [
    {
     "data": {
      "text/html": [
       "<div>\n",
       "<style scoped>\n",
       "    .dataframe tbody tr th:only-of-type {\n",
       "        vertical-align: middle;\n",
       "    }\n",
       "\n",
       "    .dataframe tbody tr th {\n",
       "        vertical-align: top;\n",
       "    }\n",
       "\n",
       "    .dataframe thead th {\n",
       "        text-align: right;\n",
       "    }\n",
       "</style>\n",
       "<table border=\"1\" class=\"dataframe\">\n",
       "  <thead>\n",
       "    <tr style=\"text-align: right;\">\n",
       "      <th></th>\n",
       "      <th>thresholds</th>\n",
       "      <th>accuracy</th>\n",
       "    </tr>\n",
       "  </thead>\n",
       "  <tbody>\n",
       "    <tr>\n",
       "      <td>9873</td>\n",
       "      <td>0.678167</td>\n",
       "      <td>0.913889</td>\n",
       "    </tr>\n",
       "    <tr>\n",
       "      <td>9872</td>\n",
       "      <td>0.678188</td>\n",
       "      <td>0.913889</td>\n",
       "    </tr>\n",
       "    <tr>\n",
       "      <td>9846</td>\n",
       "      <td>0.679052</td>\n",
       "      <td>0.913889</td>\n",
       "    </tr>\n",
       "    <tr>\n",
       "      <td>9847</td>\n",
       "      <td>0.678960</td>\n",
       "      <td>0.913889</td>\n",
       "    </tr>\n",
       "  </tbody>\n",
       "</table>\n",
       "</div>"
      ],
      "text/plain": [
       "      thresholds  accuracy\n",
       "9873    0.678167  0.913889\n",
       "9872    0.678188  0.913889\n",
       "9846    0.679052  0.913889\n",
       "9847    0.678960  0.913889"
      ]
     },
     "execution_count": 80,
     "metadata": {},
     "output_type": "execute_result"
    }
   ],
   "source": [
    "a1=accuracy_ls1[accuracy_ls1.accuracy == accuracy_ls1.accuracy.max()]\n",
    "a1"
   ]
  },
  {
   "cell_type": "code",
   "execution_count": 81,
   "metadata": {},
   "outputs": [
    {
     "data": {
      "text/plain": [
       "0.6790524043548951"
      ]
     },
     "execution_count": 81,
     "metadata": {},
     "output_type": "execute_result"
    }
   ],
   "source": [
    "a1.thresholds.max()"
   ]
  },
  {
   "cell_type": "code",
   "execution_count": 82,
   "metadata": {},
   "outputs": [
    {
     "data": {
      "image/png": "[encoded data removed]",
      "text/plain": [
       "<Figure size 432x288 with 1 Axes>"
      ]
     },
     "metadata": {
      "needs_background": "light"
     },
     "output_type": "display_data"
    }
   ],
   "source": [
    "def plot_roc_curve(fpr1, tpr1):\n",
    "    plt.plot(fpr1, tpr1, color='orange', label='ROC')\n",
    "    plt.plot([0, 1], [0, 1], color='darkblue', linestyle='--')\n",
    "    plt.xlabel('False Positive Rate')\n",
    "    plt.ylabel('True Positive Rate')\n",
    "    plt.title('Receiver Operating Characteristic (ROC) Curve')\n",
    "    plt.legend()\n",
    "    plt.show()\n",
    "plot_roc_curve(fpr1,tpr1)"
   ]
  },
  {
   "cell_type": "markdown",
   "metadata": {},
   "source": [
    "### Logistic Regression with threshold on Bigram model:"
   ]
  },
  {
   "cell_type": "code",
   "execution_count": 83,
   "metadata": {},
   "outputs": [
    {
     "data": {
      "text/html": [
       "<div>\n",
       "<style scoped>\n",
       "    .dataframe tbody tr th:only-of-type {\n",
       "        vertical-align: middle;\n",
       "    }\n",
       "\n",
       "    .dataframe tbody tr th {\n",
       "        vertical-align: top;\n",
       "    }\n",
       "\n",
       "    .dataframe thead th {\n",
       "        text-align: right;\n",
       "    }\n",
       "</style>\n",
       "<table border=\"1\" class=\"dataframe\">\n",
       "  <thead>\n",
       "    <tr style=\"text-align: right;\">\n",
       "      <th></th>\n",
       "      <th>0</th>\n",
       "    </tr>\n",
       "  </thead>\n",
       "  <tbody>\n",
       "    <tr>\n",
       "      <td>accuracy</td>\n",
       "      <td>0.900202</td>\n",
       "    </tr>\n",
       "    <tr>\n",
       "      <td>recall</td>\n",
       "      <td>0.912520</td>\n",
       "    </tr>\n",
       "    <tr>\n",
       "      <td>precision</td>\n",
       "      <td>0.957545</td>\n",
       "    </tr>\n",
       "    <tr>\n",
       "      <td>roc_auc_score</td>\n",
       "      <td>0.884519</td>\n",
       "    </tr>\n",
       "  </tbody>\n",
       "</table>\n",
       "</div>"
      ],
      "text/plain": [
       "                      0\n",
       "accuracy       0.900202\n",
       "recall         0.912520\n",
       "precision      0.957545\n",
       "roc_auc_score  0.884519"
      ]
     },
     "execution_count": 83,
     "metadata": {},
     "output_type": "execute_result"
    }
   ],
   "source": [
    "from sklearn.metrics import accuracy_score, confusion_matrix, recall_score, roc_auc_score, precision_score\n",
    "clf_1 = LogisticRegression(class_weight=\"balanced\")\n",
    "clf_1.fit(Bigram_train, y_train)\n",
    "THRESHOLD1 = a1.thresholds.max()\n",
    "preds_01 = np.where(clf_1.predict_proba(Bigram_test)[:,1] > THRESHOLD1, 1, 0)\n",
    "preds_01\n",
    "pd.DataFrame(data=[accuracy_score(y_test, preds_01), recall_score(y_test, preds_01),\n",
    "                   precision_score(y_test, preds_01), roc_auc_score(y_test, preds_01)], \n",
    "             index=[\"accuracy\", \"recall\", \"precision\", \"roc_auc_score\"])"
   ]
  },
  {
   "cell_type": "markdown",
   "metadata": {},
   "source": [
    "###  Random Forest Classifier with Threshold on Bigram model:"
   ]
  },
  {
   "cell_type": "code",
   "execution_count": 84,
   "metadata": {},
   "outputs": [
    {
     "data": {
      "text/html": [
       "<div>\n",
       "<style scoped>\n",
       "    .dataframe tbody tr th:only-of-type {\n",
       "        vertical-align: middle;\n",
       "    }\n",
       "\n",
       "    .dataframe tbody tr th {\n",
       "        vertical-align: top;\n",
       "    }\n",
       "\n",
       "    .dataframe thead th {\n",
       "        text-align: right;\n",
       "    }\n",
       "</style>\n",
       "<table border=\"1\" class=\"dataframe\">\n",
       "  <thead>\n",
       "    <tr style=\"text-align: right;\">\n",
       "      <th></th>\n",
       "      <th>0</th>\n",
       "    </tr>\n",
       "  </thead>\n",
       "  <tbody>\n",
       "    <tr>\n",
       "      <td>accuracy</td>\n",
       "      <td>0.833920</td>\n",
       "    </tr>\n",
       "    <tr>\n",
       "      <td>recall</td>\n",
       "      <td>0.933352</td>\n",
       "    </tr>\n",
       "    <tr>\n",
       "      <td>precision</td>\n",
       "      <td>0.864523</td>\n",
       "    </tr>\n",
       "    <tr>\n",
       "      <td>roc_auc_score</td>\n",
       "      <td>0.707323</td>\n",
       "    </tr>\n",
       "  </tbody>\n",
       "</table>\n",
       "</div>"
      ],
      "text/plain": [
       "                      0\n",
       "accuracy       0.833920\n",
       "recall         0.933352\n",
       "precision      0.864523\n",
       "roc_auc_score  0.707323"
      ]
     },
     "execution_count": 84,
     "metadata": {},
     "output_type": "execute_result"
    }
   ],
   "source": [
    "clf01 = RandomForestClassifier()\n",
    "clf01.fit(Bigram_train, y_train)\n",
    "THRESHOLD1 = a1.thresholds.max()\n",
    "preds01 = np.where(clf01.predict_proba(Bigram_test)[:,1] > THRESHOLD1, 1, 0)\n",
    "\n",
    "pd.DataFrame(data=[accuracy_score(y_test, preds01), recall_score(y_test, preds01),\n",
    "                   precision_score(y_test, preds01), roc_auc_score(y_test, preds01)], \n",
    "             index=[\"accuracy\", \"recall\", \"precision\", \"roc_auc_score\"])"
   ]
  },
  {
   "cell_type": "markdown",
   "metadata": {},
   "source": [
    "### Naive Bayes with Threshold on Bigram Model:"
   ]
  },
  {
   "cell_type": "code",
   "execution_count": 85,
   "metadata": {},
   "outputs": [
    {
     "data": {
      "text/html": [
       "<div>\n",
       "<style scoped>\n",
       "    .dataframe tbody tr th:only-of-type {\n",
       "        vertical-align: middle;\n",
       "    }\n",
       "\n",
       "    .dataframe tbody tr th {\n",
       "        vertical-align: top;\n",
       "    }\n",
       "\n",
       "    .dataframe thead th {\n",
       "        text-align: right;\n",
       "    }\n",
       "</style>\n",
       "<table border=\"1\" class=\"dataframe\">\n",
       "  <thead>\n",
       "    <tr style=\"text-align: right;\">\n",
       "      <th></th>\n",
       "      <th>0</th>\n",
       "    </tr>\n",
       "  </thead>\n",
       "  <tbody>\n",
       "    <tr>\n",
       "      <td>accuracy</td>\n",
       "      <td>0.889672</td>\n",
       "    </tr>\n",
       "    <tr>\n",
       "      <td>recall</td>\n",
       "      <td>0.972567</td>\n",
       "    </tr>\n",
       "    <tr>\n",
       "      <td>precision</td>\n",
       "      <td>0.895079</td>\n",
       "    </tr>\n",
       "    <tr>\n",
       "      <td>roc_auc_score</td>\n",
       "      <td>0.784131</td>\n",
       "    </tr>\n",
       "  </tbody>\n",
       "</table>\n",
       "</div>"
      ],
      "text/plain": [
       "                      0\n",
       "accuracy       0.889672\n",
       "recall         0.972567\n",
       "precision      0.895079\n",
       "roc_auc_score  0.784131"
      ]
     },
     "execution_count": 85,
     "metadata": {},
     "output_type": "execute_result"
    }
   ],
   "source": [
    "clf02 = MultinomialNB()\n",
    "clf02.fit(Bigram_train, y_train)\n",
    "THRESHOLD1 = a1.thresholds.max()\n",
    "preds02 = np.where(clf02.predict_proba(Bigram_test)[:,1] > THRESHOLD1, 1, 0)\n",
    "\n",
    "pd.DataFrame(data=[accuracy_score(y_test, preds02), recall_score(y_test, preds02),\n",
    "                   precision_score(y_test, preds02), roc_auc_score(y_test, preds02)], \n",
    "             index=[\"accuracy\", \"recall\", \"precision\", \"roc_auc_score\"])"
   ]
  },
  {
   "cell_type": "markdown",
   "metadata": {},
   "source": [
    "### XGBoost Classifier with Threshold on Bigram model:"
   ]
  },
  {
   "cell_type": "code",
   "execution_count": 86,
   "metadata": {},
   "outputs": [
    {
     "data": {
      "text/html": [
       "<div>\n",
       "<style scoped>\n",
       "    .dataframe tbody tr th:only-of-type {\n",
       "        vertical-align: middle;\n",
       "    }\n",
       "\n",
       "    .dataframe tbody tr th {\n",
       "        vertical-align: top;\n",
       "    }\n",
       "\n",
       "    .dataframe thead th {\n",
       "        text-align: right;\n",
       "    }\n",
       "</style>\n",
       "<table border=\"1\" class=\"dataframe\">\n",
       "  <thead>\n",
       "    <tr style=\"text-align: right;\">\n",
       "      <th></th>\n",
       "      <th>0</th>\n",
       "    </tr>\n",
       "  </thead>\n",
       "  <tbody>\n",
       "    <tr>\n",
       "      <td>accuracy</td>\n",
       "      <td>0.877618</td>\n",
       "    </tr>\n",
       "    <tr>\n",
       "      <td>recall</td>\n",
       "      <td>0.907833</td>\n",
       "    </tr>\n",
       "    <tr>\n",
       "      <td>precision</td>\n",
       "      <td>0.933450</td>\n",
       "    </tr>\n",
       "    <tr>\n",
       "      <td>roc_auc_score</td>\n",
       "      <td>0.839148</td>\n",
       "    </tr>\n",
       "  </tbody>\n",
       "</table>\n",
       "</div>"
      ],
      "text/plain": [
       "                      0\n",
       "accuracy       0.877618\n",
       "recall         0.907833\n",
       "precision      0.933450\n",
       "roc_auc_score  0.839148"
      ]
     },
     "execution_count": 86,
     "metadata": {},
     "output_type": "execute_result"
    }
   ],
   "source": [
    "clf03 = XGBClassifier()\n",
    "clf03.fit(Bigram_train, y_train)\n",
    "THRESHOLD1 = a1.thresholds.max()\n",
    "preds03 = np.where(clf03.predict_proba(Bigram_test)[:,1] > THRESHOLD1, 1, 0)\n",
    "\n",
    "pd.DataFrame(data=[accuracy_score(y_test, preds03), recall_score(y_test, preds03),\n",
    "                   precision_score(y_test, preds03), roc_auc_score(y_test, preds03)], \n",
    "             index=[\"accuracy\", \"recall\", \"precision\", \"roc_auc_score\"])"
   ]
  },
  {
   "cell_type": "markdown",
   "metadata": {},
   "source": [
    "# TF-IDF VECTOR MODEL:"
   ]
  },
  {
   "cell_type": "code",
   "execution_count": 87,
   "metadata": {},
   "outputs": [],
   "source": [
    "from sklearn.feature_extraction.text import TfidfVectorizer\n",
    "tf=TfidfVectorizer()\n",
    "tf_train = tf.fit_transform(X_train.values)\n",
    "tf_test = tf.transform(X_test.values)"
   ]
  },
  {
   "cell_type": "markdown",
   "metadata": {},
   "source": [
    "## LOGISTIC REGRESSION FOR TF-IDF MODEL:"
   ]
  },
  {
   "cell_type": "code",
   "execution_count": 88,
   "metadata": {},
   "outputs": [
    {
     "name": "stdout",
     "output_type": "stream",
     "text": [
      "Logistic train roc-auc: 0.9496924426197597\n",
      "Logistic test roc-auc: 0.9374357561272001\n"
     ]
    }
   ],
   "source": [
    "from sklearn.linear_model import LogisticRegression\n",
    "log_classifier2=LogisticRegression()\n",
    "log_classifier2.fit(tf_train,y_train)\n",
    "ytrain_pred05 = log_classifier2.predict_proba(tf_train)\n",
    "print('Logistic train roc-auc: {}'.format(roc_auc_score(y_train, ytrain_pred05[:,1])))\n",
    "ytest_pred05 = log_classifier2.predict_proba(tf_test)\n",
    "print('Logistic test roc-auc: {}'.format(roc_auc_score(y_test, ytest_pred05[:,1])))"
   ]
  },
  {
   "cell_type": "markdown",
   "metadata": {},
   "source": [
    "## NAIVE-BAYES FOR TF-IDF MODEL:"
   ]
  },
  {
   "cell_type": "code",
   "execution_count": 89,
   "metadata": {},
   "outputs": [
    {
     "name": "stdout",
     "output_type": "stream",
     "text": [
      "NB train roc-auc: 0.9135575805661407\n",
      "NB test roc-auc: 0.9007636944541182\n"
     ]
    }
   ],
   "source": [
    "from sklearn.naive_bayes import MultinomialNB\n",
    "from sklearn import metrics\n",
    "nb_classifier2=MultinomialNB()\n",
    "nb_classifier2.fit(tf_train,y_train)\n",
    "ytrain_pred06 = nb_classifier2.predict_proba(tf_train)\n",
    "print('NB train roc-auc: {}'.format(roc_auc_score(y_train, ytrain_pred06[:,1])))\n",
    "ytest_pred06 = nb_classifier2.predict_proba(tf_test)\n",
    "print('NB test roc-auc: {}'.format(roc_auc_score(y_test, ytest_pred06[:,1])))"
   ]
  },
  {
   "cell_type": "markdown",
   "metadata": {},
   "source": [
    "## RANDOM FOREST FOR TF-IDF MODEL:"
   ]
  },
  {
   "cell_type": "code",
   "execution_count": 90,
   "metadata": {},
   "outputs": [
    {
     "name": "stdout",
     "output_type": "stream",
     "text": [
      "RF train roc-auc: 0.999829945736963\n",
      "RF test roc-auc: 0.8141164910781582\n"
     ]
    }
   ],
   "source": [
    "from sklearn.ensemble import RandomForestClassifier\n",
    "rf_model2 = RandomForestClassifier()\n",
    "rf_model2.fit(tf_train, y_train)\n",
    "ytrain_pred07 = rf_model2.predict_proba(tf_train)\n",
    "print('RF train roc-auc: {}'.format(roc_auc_score(y_train, ytrain_pred07[:,1])))\n",
    "ytest_pred07 = rf_model2.predict_proba(tf_test)\n",
    "print('RF test roc-auc: {}'.format(roc_auc_score(y_test, ytest_pred07[:,1])))"
   ]
  },
  {
   "cell_type": "markdown",
   "metadata": {},
   "source": [
    "## XGBOOST FOR TF-IDF MODEL:"
   ]
  },
  {
   "cell_type": "code",
   "execution_count": 91,
   "metadata": {},
   "outputs": [
    {
     "name": "stdout",
     "output_type": "stream",
     "text": [
      "XGBOOST train roc-auc: 0.9425509647481702\n",
      "XGBOOST test roc-auc: 0.9161625689741081\n"
     ]
    }
   ],
   "source": [
    "from xgboost import XGBClassifier\n",
    "xg_model2= XGBClassifier()\n",
    "xg_model2.fit(tf_train,y_train)\n",
    "ytrain_pred08 = xg_model2.predict_proba(tf_train)\n",
    "print('XGBOOST train roc-auc: {}'.format(roc_auc_score(y_train, ytrain_pred08[:,1])))\n",
    "ytest_pred08 = xg_model2.predict_proba(tf_test)\n",
    "print('XGBOOST test roc-auc: {}'.format(roc_auc_score(y_test, ytest_pred08[:,1])))"
   ]
  },
  {
   "cell_type": "code",
   "execution_count": 92,
   "metadata": {},
   "outputs": [
    {
     "name": "stdout",
     "output_type": "stream",
     "text": [
      "Ensemble test roc-auc: 0.9348706998522499\n"
     ]
    }
   ],
   "source": [
    "pred2=[]\n",
    "for model in [log_classifier2,rf_model2,nb_classifier2,xg_model2]:\n",
    "    pred2.append(pd.Series(model.predict_proba(tf_test)[:,1]))\n",
    "final_prediction2=pd.concat(pred2,axis=1).mean(axis=1)\n",
    "print('Ensemble test roc-auc: {}'.format(roc_auc_score(y_test,final_prediction2)))"
   ]
  },
  {
   "cell_type": "code",
   "execution_count": 93,
   "metadata": {},
   "outputs": [
    {
     "data": {
      "text/plain": [
       "0         0.991566\n",
       "1         0.639947\n",
       "2         0.938361\n",
       "3         0.375503\n",
       "4         0.995375\n",
       "            ...   \n",
       "129908    0.290318\n",
       "129909    0.889452\n",
       "129910    0.934090\n",
       "129911    0.987760\n",
       "129912    0.859929\n",
       "Length: 129913, dtype: float64"
      ]
     },
     "execution_count": 93,
     "metadata": {},
     "output_type": "execute_result"
    }
   ],
   "source": [
    "pd.concat(pred2,axis=1)\n",
    "final_prediction2"
   ]
  },
  {
   "cell_type": "code",
   "execution_count": 94,
   "metadata": {},
   "outputs": [],
   "source": [
    "fpr2, tpr2, thresholds2 = roc_curve(y_test, final_prediction2)"
   ]
  },
  {
   "cell_type": "code",
   "execution_count": 95,
   "metadata": {},
   "outputs": [
    {
     "data": {
      "text/html": [
       "<div>\n",
       "<style scoped>\n",
       "    .dataframe tbody tr th:only-of-type {\n",
       "        vertical-align: middle;\n",
       "    }\n",
       "\n",
       "    .dataframe tbody tr th {\n",
       "        vertical-align: top;\n",
       "    }\n",
       "\n",
       "    .dataframe thead th {\n",
       "        text-align: right;\n",
       "    }\n",
       "</style>\n",
       "<table border=\"1\" class=\"dataframe\">\n",
       "  <thead>\n",
       "    <tr style=\"text-align: right;\">\n",
       "      <th></th>\n",
       "      <th>thresholds</th>\n",
       "      <th>accuracy</th>\n",
       "    </tr>\n",
       "  </thead>\n",
       "  <tbody>\n",
       "    <tr>\n",
       "      <td>10589</td>\n",
       "      <td>0.653418</td>\n",
       "      <td>0.893583</td>\n",
       "    </tr>\n",
       "    <tr>\n",
       "      <td>10438</td>\n",
       "      <td>0.658432</td>\n",
       "      <td>0.893583</td>\n",
       "    </tr>\n",
       "    <tr>\n",
       "      <td>10341</td>\n",
       "      <td>0.661946</td>\n",
       "      <td>0.893567</td>\n",
       "    </tr>\n",
       "    <tr>\n",
       "      <td>10440</td>\n",
       "      <td>0.658338</td>\n",
       "      <td>0.893567</td>\n",
       "    </tr>\n",
       "    <tr>\n",
       "      <td>10435</td>\n",
       "      <td>0.658524</td>\n",
       "      <td>0.893567</td>\n",
       "    </tr>\n",
       "  </tbody>\n",
       "</table>\n",
       "</div>"
      ],
      "text/plain": [
       "       thresholds  accuracy\n",
       "10589    0.653418  0.893583\n",
       "10438    0.658432  0.893583\n",
       "10341    0.661946  0.893567\n",
       "10440    0.658338  0.893567\n",
       "10435    0.658524  0.893567"
      ]
     },
     "execution_count": 95,
     "metadata": {},
     "output_type": "execute_result"
    }
   ],
   "source": [
    "from sklearn.metrics import accuracy_score\n",
    "accuracy_ls2 = []\n",
    "for thres in thresholds:\n",
    "    y_pred2 = np.where(final_prediction2 >thres,1,0)\n",
    "    accuracy_ls2.append(accuracy_score(y_test, y_pred2, normalize=True))\n",
    "    \n",
    "accuracy_ls2 = pd.concat([pd.Series(thresholds), pd.Series(accuracy_ls2)],\n",
    "                        axis=1)\n",
    "accuracy_ls2.columns = ['thresholds', 'accuracy']\n",
    "accuracy_ls2.sort_values(by='accuracy', ascending=False, inplace=True)\n",
    "accuracy_ls2.head()"
   ]
  },
  {
   "cell_type": "code",
   "execution_count": 96,
   "metadata": {},
   "outputs": [
    {
     "data": {
      "text/html": [
       "<div>\n",
       "<style scoped>\n",
       "    .dataframe tbody tr th:only-of-type {\n",
       "        vertical-align: middle;\n",
       "    }\n",
       "\n",
       "    .dataframe tbody tr th {\n",
       "        vertical-align: top;\n",
       "    }\n",
       "\n",
       "    .dataframe thead th {\n",
       "        text-align: right;\n",
       "    }\n",
       "</style>\n",
       "<table border=\"1\" class=\"dataframe\">\n",
       "  <thead>\n",
       "    <tr style=\"text-align: right;\">\n",
       "      <th></th>\n",
       "      <th>thresholds</th>\n",
       "      <th>accuracy</th>\n",
       "    </tr>\n",
       "  </thead>\n",
       "  <tbody>\n",
       "    <tr>\n",
       "      <td>10589</td>\n",
       "      <td>0.653418</td>\n",
       "      <td>0.893583</td>\n",
       "    </tr>\n",
       "    <tr>\n",
       "      <td>10438</td>\n",
       "      <td>0.658432</td>\n",
       "      <td>0.893583</td>\n",
       "    </tr>\n",
       "  </tbody>\n",
       "</table>\n",
       "</div>"
      ],
      "text/plain": [
       "       thresholds  accuracy\n",
       "10589    0.653418  0.893583\n",
       "10438    0.658432  0.893583"
      ]
     },
     "execution_count": 96,
     "metadata": {},
     "output_type": "execute_result"
    }
   ],
   "source": [
    "a2=accuracy_ls2[accuracy_ls2.accuracy == accuracy_ls2.accuracy.max()]\n",
    "a2"
   ]
  },
  {
   "cell_type": "code",
   "execution_count": 97,
   "metadata": {},
   "outputs": [
    {
     "data": {
      "text/plain": [
       "0.6584324775212763"
      ]
     },
     "execution_count": 97,
     "metadata": {},
     "output_type": "execute_result"
    }
   ],
   "source": [
    "a2.thresholds.max()"
   ]
  },
  {
   "cell_type": "code",
   "execution_count": 98,
   "metadata": {},
   "outputs": [
    {
     "data": {
      "image/png": "[encoded data removed]",
      "text/plain": [
       "<Figure size 432x288 with 1 Axes>"
      ]
     },
     "metadata": {
      "needs_background": "light"
     },
     "output_type": "display_data"
    }
   ],
   "source": [
    "def plot_roc_curve(fpr2, tpr2):\n",
    "    plt.plot(fpr2, tpr2, color='orange', label='ROC')\n",
    "    plt.plot([0, 1], [0, 1], color='darkblue', linestyle='--')\n",
    "    plt.xlabel('False Positive Rate')\n",
    "    plt.ylabel('True Positive Rate')\n",
    "    plt.title('Receiver Operating Characteristic (ROC) Curve')\n",
    "    plt.legend()\n",
    "    plt.show()\n",
    "plot_roc_curve(fpr2,tpr2)"
   ]
  },
  {
   "cell_type": "markdown",
   "metadata": {},
   "source": [
    "### Logistic Regression with threshold on TF-IDF model:"
   ]
  },
  {
   "cell_type": "code",
   "execution_count": 99,
   "metadata": {},
   "outputs": [
    {
     "data": {
      "text/html": [
       "<div>\n",
       "<style scoped>\n",
       "    .dataframe tbody tr th:only-of-type {\n",
       "        vertical-align: middle;\n",
       "    }\n",
       "\n",
       "    .dataframe tbody tr th {\n",
       "        vertical-align: top;\n",
       "    }\n",
       "\n",
       "    .dataframe thead th {\n",
       "        text-align: right;\n",
       "    }\n",
       "</style>\n",
       "<table border=\"1\" class=\"dataframe\">\n",
       "  <thead>\n",
       "    <tr style=\"text-align: right;\">\n",
       "      <th></th>\n",
       "      <th>0</th>\n",
       "    </tr>\n",
       "  </thead>\n",
       "  <tbody>\n",
       "    <tr>\n",
       "      <td>accuracy</td>\n",
       "      <td>0.815084</td>\n",
       "    </tr>\n",
       "    <tr>\n",
       "      <td>recall</td>\n",
       "      <td>0.783546</td>\n",
       "    </tr>\n",
       "    <tr>\n",
       "      <td>precision</td>\n",
       "      <td>0.974378</td>\n",
       "    </tr>\n",
       "    <tr>\n",
       "      <td>roc_auc_score</td>\n",
       "      <td>0.855238</td>\n",
       "    </tr>\n",
       "  </tbody>\n",
       "</table>\n",
       "</div>"
      ],
      "text/plain": [
       "                      0\n",
       "accuracy       0.815084\n",
       "recall         0.783546\n",
       "precision      0.974378\n",
       "roc_auc_score  0.855238"
      ]
     },
     "execution_count": 99,
     "metadata": {},
     "output_type": "execute_result"
    }
   ],
   "source": [
    "from sklearn.metrics import accuracy_score, confusion_matrix, recall_score, roc_auc_score, precision_score\n",
    "clf_2= LogisticRegression(class_weight=\"balanced\")\n",
    "clf_2.fit(tf_train, y_train)\n",
    "THRESHOLD2 = a2.thresholds.max()\n",
    "preds_02 = np.where(clf_2.predict_proba(tf_test)[:,1] > THRESHOLD2, 1, 0)\n",
    "preds_02\n",
    "pd.DataFrame(data=[accuracy_score(y_test, preds_02), recall_score(y_test, preds_02),\n",
    "                   precision_score(y_test, preds_02), roc_auc_score(y_test, preds_02)], \n",
    "             index=[\"accuracy\", \"recall\", \"precision\", \"roc_auc_score\"])"
   ]
  },
  {
   "cell_type": "markdown",
   "metadata": {},
   "source": [
    "### Random Forest with threshold on TF-IDF  model:"
   ]
  },
  {
   "cell_type": "code",
   "execution_count": 100,
   "metadata": {},
   "outputs": [
    {
     "data": {
      "text/html": [
       "<div>\n",
       "<style scoped>\n",
       "    .dataframe tbody tr th:only-of-type {\n",
       "        vertical-align: middle;\n",
       "    }\n",
       "\n",
       "    .dataframe tbody tr th {\n",
       "        vertical-align: top;\n",
       "    }\n",
       "\n",
       "    .dataframe thead th {\n",
       "        text-align: right;\n",
       "    }\n",
       "</style>\n",
       "<table border=\"1\" class=\"dataframe\">\n",
       "  <thead>\n",
       "    <tr style=\"text-align: right;\">\n",
       "      <th></th>\n",
       "      <th>0</th>\n",
       "    </tr>\n",
       "  </thead>\n",
       "  <tbody>\n",
       "    <tr>\n",
       "      <td>accuracy</td>\n",
       "      <td>0.818771</td>\n",
       "    </tr>\n",
       "    <tr>\n",
       "      <td>recall</td>\n",
       "      <td>0.902376</td>\n",
       "    </tr>\n",
       "    <tr>\n",
       "      <td>precision</td>\n",
       "      <td>0.870109</td>\n",
       "    </tr>\n",
       "    <tr>\n",
       "      <td>roc_auc_score</td>\n",
       "      <td>0.712325</td>\n",
       "    </tr>\n",
       "  </tbody>\n",
       "</table>\n",
       "</div>"
      ],
      "text/plain": [
       "                      0\n",
       "accuracy       0.818771\n",
       "recall         0.902376\n",
       "precision      0.870109\n",
       "roc_auc_score  0.712325"
      ]
     },
     "execution_count": 100,
     "metadata": {},
     "output_type": "execute_result"
    }
   ],
   "source": [
    "clf04 = RandomForestClassifier()\n",
    "clf04.fit(tf_train, y_train)\n",
    "THRESHOLD2 = a2.thresholds.max()\n",
    "preds04 = np.where(clf04.predict_proba(tf_test)[:,1] > THRESHOLD2, 1, 0)\n",
    "\n",
    "pd.DataFrame(data=[accuracy_score(y_test, preds04), recall_score(y_test, preds04),\n",
    "                   precision_score(y_test, preds04), roc_auc_score(y_test, preds04)], \n",
    "             index=[\"accuracy\", \"recall\", \"precision\", \"roc_auc_score\"])"
   ]
  },
  {
   "cell_type": "markdown",
   "metadata": {},
   "source": [
    "### Naive Bayes with Threshold on TF-IDF Model:"
   ]
  },
  {
   "cell_type": "code",
   "execution_count": 101,
   "metadata": {},
   "outputs": [
    {
     "data": {
      "text/html": [
       "<div>\n",
       "<style scoped>\n",
       "    .dataframe tbody tr th:only-of-type {\n",
       "        vertical-align: middle;\n",
       "    }\n",
       "\n",
       "    .dataframe tbody tr th {\n",
       "        vertical-align: top;\n",
       "    }\n",
       "\n",
       "    .dataframe thead th {\n",
       "        text-align: right;\n",
       "    }\n",
       "</style>\n",
       "<table border=\"1\" class=\"dataframe\">\n",
       "  <thead>\n",
       "    <tr style=\"text-align: right;\">\n",
       "      <th></th>\n",
       "      <th>0</th>\n",
       "    </tr>\n",
       "  </thead>\n",
       "  <tbody>\n",
       "    <tr>\n",
       "      <td>accuracy</td>\n",
       "      <td>0.833735</td>\n",
       "    </tr>\n",
       "    <tr>\n",
       "      <td>recall</td>\n",
       "      <td>0.988760</td>\n",
       "    </tr>\n",
       "    <tr>\n",
       "      <td>precision</td>\n",
       "      <td>0.830424</td>\n",
       "    </tr>\n",
       "    <tr>\n",
       "      <td>roc_auc_score</td>\n",
       "      <td>0.636357</td>\n",
       "    </tr>\n",
       "  </tbody>\n",
       "</table>\n",
       "</div>"
      ],
      "text/plain": [
       "                      0\n",
       "accuracy       0.833735\n",
       "recall         0.988760\n",
       "precision      0.830424\n",
       "roc_auc_score  0.636357"
      ]
     },
     "execution_count": 101,
     "metadata": {},
     "output_type": "execute_result"
    }
   ],
   "source": [
    "clf05 = MultinomialNB()\n",
    "clf05.fit(tf_train, y_train)\n",
    "THRESHOLD2 = a2.thresholds.max()\n",
    "preds05 = np.where(clf05.predict_proba(tf_test)[:,1] > THRESHOLD2, 1, 0)\n",
    "\n",
    "pd.DataFrame(data=[accuracy_score(y_test, preds05), recall_score(y_test, preds05),\n",
    "                   precision_score(y_test, preds05), roc_auc_score(y_test, preds05)], \n",
    "             index=[\"accuracy\", \"recall\", \"precision\", \"roc_auc_score\"])"
   ]
  },
  {
   "cell_type": "markdown",
   "metadata": {},
   "source": [
    "### XGBoost with Threshold on TF-IDF model:"
   ]
  },
  {
   "cell_type": "code",
   "execution_count": 102,
   "metadata": {},
   "outputs": [
    {
     "data": {
      "text/html": [
       "<div>\n",
       "<style scoped>\n",
       "    .dataframe tbody tr th:only-of-type {\n",
       "        vertical-align: middle;\n",
       "    }\n",
       "\n",
       "    .dataframe tbody tr th {\n",
       "        vertical-align: top;\n",
       "    }\n",
       "\n",
       "    .dataframe thead th {\n",
       "        text-align: right;\n",
       "    }\n",
       "</style>\n",
       "<table border=\"1\" class=\"dataframe\">\n",
       "  <thead>\n",
       "    <tr style=\"text-align: right;\">\n",
       "      <th></th>\n",
       "      <th>0</th>\n",
       "    </tr>\n",
       "  </thead>\n",
       "  <tbody>\n",
       "    <tr>\n",
       "      <td>accuracy</td>\n",
       "      <td>0.867588</td>\n",
       "    </tr>\n",
       "    <tr>\n",
       "      <td>recall</td>\n",
       "      <td>0.905919</td>\n",
       "    </tr>\n",
       "    <tr>\n",
       "      <td>precision</td>\n",
       "      <td>0.922913</td>\n",
       "    </tr>\n",
       "    <tr>\n",
       "      <td>roc_auc_score</td>\n",
       "      <td>0.818786</td>\n",
       "    </tr>\n",
       "  </tbody>\n",
       "</table>\n",
       "</div>"
      ],
      "text/plain": [
       "                      0\n",
       "accuracy       0.867588\n",
       "recall         0.905919\n",
       "precision      0.922913\n",
       "roc_auc_score  0.818786"
      ]
     },
     "execution_count": 102,
     "metadata": {},
     "output_type": "execute_result"
    }
   ],
   "source": [
    "clf06 = XGBClassifier()\n",
    "clf06.fit(tf_train, y_train)\n",
    "THRESHOLD2 = a2.thresholds.max()\n",
    "preds06 = np.where(clf06.predict_proba(tf_test)[:,1] > THRESHOLD2, 1, 0)\n",
    "\n",
    "pd.DataFrame(data=[accuracy_score(y_test, preds06), recall_score(y_test, preds06),\n",
    "                   precision_score(y_test, preds06), roc_auc_score(y_test, preds06)], \n",
    "             index=[\"accuracy\", \"recall\", \"precision\", \"roc_auc_score\"])"
   ]
  }
 ],
 "metadata": {
  "kernelspec": {
   "display_name": "Python 3",
   "language": "python",
   "name": "python3"
  },
  "language_info": {
   "codemirror_mode": {
    "name": "ipython",
    "version": 3
   },
   "file_extension": ".py",
   "mimetype": "text/x-python",
   "name": "python",
   "nbconvert_exporter": "python",
   "pygments_lexer": "ipython3",
   "version": "3.7.4"
  }
 },
 "nbformat": 4,
 "nbformat_minor": 2
}
